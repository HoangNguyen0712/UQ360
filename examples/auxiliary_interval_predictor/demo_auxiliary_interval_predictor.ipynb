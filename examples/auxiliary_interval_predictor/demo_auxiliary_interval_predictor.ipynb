{
 "cells": [
  {
   "cell_type": "markdown",
   "metadata": {},
   "source": [
    "# Auxiliary Interval Predictor Demo"
   ]
  },
  {
   "cell_type": "markdown",
   "metadata": {},
   "source": [
    "#### Import Statements"
   ]
  },
  {
   "cell_type": "code",
   "execution_count": 1,
   "metadata": {},
   "outputs": [],
   "source": [
    "import sys\n",
    "sys.path.append(\"../../\")"
   ]
  },
  {
   "cell_type": "code",
   "execution_count": 2,
   "metadata": {},
   "outputs": [],
   "source": [
    "%matplotlib inline"
   ]
  },
  {
   "cell_type": "code",
   "execution_count": 3,
   "metadata": {},
   "outputs": [],
   "source": [
    "import matplotlib.pyplot as plt"
   ]
  },
  {
   "cell_type": "code",
   "execution_count": 4,
   "metadata": {},
   "outputs": [],
   "source": [
    "from uq360.algorithms.auxiliary_interval_predictor import AuxiliaryIntervalPredictor\n",
    "from uq360.metrics import picp, mpiw, compute_regression_metrics\n",
    "from uq360.metrics import UncertaintyCharacteristicsCurve as ucc"
   ]
  },
  {
   "cell_type": "code",
   "execution_count": 5,
   "metadata": {},
   "outputs": [],
   "source": [
    "from sklearn import datasets\n",
    "from sklearn.model_selection import train_test_split\n",
    "from sklearn.metrics import mean_squared_error\n",
    "from sklearn.preprocessing import StandardScaler\n",
    "import pandas as pd\n",
    "import numpy as np\n",
    "import torch"
   ]
  },
  {
   "cell_type": "markdown",
   "metadata": {},
   "source": [
    "#### Load Boston Housing Prices Dataset"
   ]
  },
  {
   "cell_type": "code",
   "execution_count": 6,
   "metadata": {},
   "outputs": [],
   "source": [
    "house_prices_dataset = datasets.load_boston()\n",
    "house_prices_df = pd.DataFrame(house_prices_dataset['data'])\n",
    "house_prices_df.columns = house_prices_dataset['feature_names']\n",
    "\n",
    "all_features = ['RM','CRIM','PTRATIO', 'DIS']\n",
    "X = house_prices_df[all_features].values\n",
    "y = house_prices_dataset['target']"
   ]
  },
  {
   "cell_type": "markdown",
   "metadata": {},
   "source": [
    "#### Train test split of the dataset"
   ]
  },
  {
   "cell_type": "code",
   "execution_count": 7,
   "metadata": {},
   "outputs": [],
   "source": [
    "X_train, X_test, y_train, y_test = train_test_split(X, y, test_size=0.3, random_state=0)"
   ]
  },
  {
   "cell_type": "code",
   "execution_count": 8,
   "metadata": {},
   "outputs": [
    {
     "data": {
      "text/plain": [
       "Text(0.5, 1.0, 'Training data')"
      ]
     },
     "execution_count": 8,
     "metadata": {},
     "output_type": "execute_result"
    },
    {
     "data": {
      "image/png": "[encoded data removed]",
      "text/plain": [
       "<Figure size 432x288 with 1 Axes>"
      ]
     },
     "metadata": {
      "needs_background": "light"
     },
     "output_type": "display_data"
    }
   ],
   "source": [
    "plt.scatter(X_train[:,0], y_train)\n",
    "plt.xlabel('#of rooms')\n",
    "plt.ylabel('house price')\n",
    "plt.title('Training data')"
   ]
  },
  {
   "cell_type": "code",
   "execution_count": 9,
   "metadata": {},
   "outputs": [],
   "source": [
    "scaler_y = StandardScaler()\n",
    "y_train = scaler_y.fit_transform(y_train.reshape(-1, 1))\n",
    "scaler_X = StandardScaler()\n",
    "X_train = scaler_X.fit_transform(X_train)\n",
    "X_test = scaler_X.transform(X_test)"
   ]
  },
  {
   "cell_type": "markdown",
   "metadata": {},
   "source": [
    "### Train Auxiliary Interval Predictor Model"
   ]
  },
  {
   "cell_type": "code",
   "execution_count": 10,
   "metadata": {},
   "outputs": [],
   "source": [
    "y_train = y_train.reshape(-1, 1)\n",
    "y_test = y_test.reshape(-1, 1)\n",
    "config = {\"num_features\": X_train.shape[1], \"num_outputs\": y_train.shape[1], \"num_hidden\": 50, \"batch_size\": 32,\n",
    "                  \"lr\": 0.01, \"num_main_iters\": 50, \"num_aux_iters\": 5, \"num_outer_iters\": 5,\n",
    "                  \"lambda_noise\": 0.001, \"lambda_sharpness\": 0.01, \"lambda_match\": 1.0, \"calibration_alpha\": 0.90}\n",
    "device = torch.device(\"cuda:0\" if torch.cuda.is_available() else \"cpu\")\n",
    "uq_model = AuxiliaryIntervalPredictor(model_type='mlp', config=config, device=device)"
   ]
  },
  {
   "cell_type": "code",
   "execution_count": 11,
   "metadata": {},
   "outputs": [
    {
     "name": "stdout",
     "output_type": "stream",
     "text": [
      "Iter: 0,  Epoch: 0, main_model_loss = 0.3544428957005342\n",
      "Iter: 0,  Epoch: 1, main_model_loss = 0.22940429610510668\n",
      "Iter: 0,  Epoch: 2, main_model_loss = 0.19649613151947656\n",
      "Iter: 0,  Epoch: 3, main_model_loss = 0.16679944470524788\n",
      "Iter: 0,  Epoch: 4, main_model_loss = 0.15240077363948026\n",
      "Iter: 0,  Epoch: 5, main_model_loss = 0.1419771313667297\n",
      "Iter: 0,  Epoch: 6, main_model_loss = 0.1355592173834642\n",
      "Iter: 0,  Epoch: 7, main_model_loss = 0.13652148780723414\n",
      "Iter: 0,  Epoch: 8, main_model_loss = 0.133726140173773\n",
      "Iter: 0,  Epoch: 9, main_model_loss = 0.1324680078153809\n",
      "Iter: 0,  Epoch: 10, main_model_loss = 0.12922447485228378\n",
      "Iter: 0,  Epoch: 11, main_model_loss = 0.1281825260569652\n",
      "Iter: 0,  Epoch: 12, main_model_loss = 0.12766601766149205\n",
      "Iter: 0,  Epoch: 13, main_model_loss = 0.1261024835209052\n",
      "Iter: 0,  Epoch: 14, main_model_loss = 0.12684153579175472\n",
      "Iter: 0,  Epoch: 15, main_model_loss = 0.13935778010636565\n",
      "Iter: 0,  Epoch: 16, main_model_loss = 0.17059730800489586\n",
      "Iter: 0,  Epoch: 17, main_model_loss = 0.14295409775028625\n",
      "Iter: 0,  Epoch: 18, main_model_loss = 0.1336535106723507\n",
      "Iter: 0,  Epoch: 19, main_model_loss = 0.12630632302413383\n",
      "Iter: 0,  Epoch: 20, main_model_loss = 0.12673087852696577\n",
      "Iter: 0,  Epoch: 21, main_model_loss = 0.1252025729045272\n",
      "Iter: 0,  Epoch: 22, main_model_loss = 0.12423986289650202\n",
      "Iter: 0,  Epoch: 23, main_model_loss = 0.12027656628439823\n",
      "Iter: 0,  Epoch: 24, main_model_loss = 0.11997503042221071\n",
      "Iter: 0,  Epoch: 25, main_model_loss = 0.11754767177626492\n",
      "Iter: 0,  Epoch: 26, main_model_loss = 0.11695909360423686\n",
      "Iter: 0,  Epoch: 27, main_model_loss = 0.12498833176990351\n",
      "Iter: 0,  Epoch: 28, main_model_loss = 0.1393197067081928\n",
      "Iter: 0,  Epoch: 29, main_model_loss = 0.13201297943790755\n",
      "Iter: 0,  Epoch: 30, main_model_loss = 0.11965412025650343\n",
      "Iter: 0,  Epoch: 31, main_model_loss = 0.11927101605882248\n",
      "Iter: 0,  Epoch: 32, main_model_loss = 0.11635592207312584\n",
      "Iter: 0,  Epoch: 33, main_model_loss = 0.11598935754348834\n",
      "Iter: 0,  Epoch: 34, main_model_loss = 0.11613678233698012\n",
      "Iter: 0,  Epoch: 35, main_model_loss = 0.11418700404465199\n",
      "Iter: 0,  Epoch: 36, main_model_loss = 0.11551454321791729\n",
      "Iter: 0,  Epoch: 37, main_model_loss = 0.11294216973086198\n",
      "Iter: 0,  Epoch: 38, main_model_loss = 0.11025790885711712\n",
      "Iter: 0,  Epoch: 39, main_model_loss = 0.11250600467125575\n",
      "Iter: 0,  Epoch: 40, main_model_loss = 0.11008375386397043\n",
      "Iter: 0,  Epoch: 41, main_model_loss = 0.11064101569354531\n",
      "Iter: 0,  Epoch: 42, main_model_loss = 0.12822931415090957\n",
      "Iter: 0,  Epoch: 43, main_model_loss = 0.14136419072747233\n",
      "Iter: 0,  Epoch: 44, main_model_loss = 0.11878853275751076\n",
      "Iter: 0,  Epoch: 45, main_model_loss = 0.11458065065865715\n",
      "Iter: 0,  Epoch: 46, main_model_loss = 0.11285821472605068\n",
      "Iter: 0,  Epoch: 47, main_model_loss = 0.11348399519920349\n",
      "Iter: 0,  Epoch: 48, main_model_loss = 0.111482087833186\n",
      "Iter: 0,  Epoch: 49, main_model_loss = 0.11102203093469144\n",
      "Iter: 0,  Epoch: 0, aux_model_loss = 0.10638583110024531\n",
      "Iter: 0,  Epoch: 1, aux_model_loss = 0.1715345531702042\n",
      "Iter: 0,  Epoch: 2, aux_model_loss = 0.3541722800582648\n",
      "Iter: 0,  Epoch: 3, aux_model_loss = 0.2868784945458174\n",
      "Iter: 0,  Epoch: 4, aux_model_loss = 0.302308052778244\n",
      "Iter: 1,  Epoch: 0, main_model_loss = 0.8878352393706639\n",
      "Iter: 1,  Epoch: 1, main_model_loss = 0.7483293265104294\n",
      "Iter: 1,  Epoch: 2, main_model_loss = 0.688604657848676\n",
      "Iter: 1,  Epoch: 3, main_model_loss = 0.6768970017631849\n",
      "Iter: 1,  Epoch: 4, main_model_loss = 0.7282315095265706\n",
      "Iter: 1,  Epoch: 5, main_model_loss = 0.6872354646523793\n",
      "Iter: 1,  Epoch: 6, main_model_loss = 0.6647103851040205\n",
      "Iter: 1,  Epoch: 7, main_model_loss = 0.6268066540360452\n",
      "Iter: 1,  Epoch: 8, main_model_loss = 0.6225485106309255\n",
      "Iter: 1,  Epoch: 9, main_model_loss = 0.6148063441117604\n",
      "Iter: 1,  Epoch: 10, main_model_loss = 0.6126406913002331\n",
      "Iter: 1,  Epoch: 11, main_model_loss = 0.6208965107798576\n",
      "Iter: 1,  Epoch: 12, main_model_loss = 0.6231063703695934\n",
      "Iter: 1,  Epoch: 13, main_model_loss = 0.6350853443145752\n",
      "Iter: 1,  Epoch: 14, main_model_loss = 0.635470151901245\n",
      "Iter: 1,  Epoch: 15, main_model_loss = 0.6259445548057556\n",
      "Iter: 1,  Epoch: 16, main_model_loss = 0.6084656963745753\n",
      "Iter: 1,  Epoch: 17, main_model_loss = 0.600447026391824\n",
      "Iter: 1,  Epoch: 18, main_model_loss = 0.5896373391151428\n",
      "Iter: 1,  Epoch: 19, main_model_loss = 0.5828825881083807\n",
      "Iter: 1,  Epoch: 20, main_model_loss = 0.5809180935223897\n",
      "Iter: 1,  Epoch: 21, main_model_loss = 0.5797350977857907\n",
      "Iter: 1,  Epoch: 22, main_model_loss = 0.5800909077127774\n",
      "Iter: 1,  Epoch: 23, main_model_loss = 0.5811705018083254\n",
      "Iter: 1,  Epoch: 24, main_model_loss = 0.5740740795930228\n",
      "Iter: 1,  Epoch: 25, main_model_loss = 0.5744132101535797\n",
      "Iter: 1,  Epoch: 26, main_model_loss = 0.5735029379526774\n",
      "Iter: 1,  Epoch: 27, main_model_loss = 0.5691252301136652\n",
      "Iter: 1,  Epoch: 28, main_model_loss = 0.571560891966025\n",
      "Iter: 1,  Epoch: 29, main_model_loss = 0.571958045164744\n",
      "Iter: 1,  Epoch: 30, main_model_loss = 0.5695666546622911\n",
      "Iter: 1,  Epoch: 31, main_model_loss = 0.569280209640662\n",
      "Iter: 1,  Epoch: 32, main_model_loss = 0.5630573903520902\n",
      "Iter: 1,  Epoch: 33, main_model_loss = 0.5586739753683408\n",
      "Iter: 1,  Epoch: 34, main_model_loss = 0.5595581829547882\n",
      "Iter: 1,  Epoch: 35, main_model_loss = 0.553466926018397\n",
      "Iter: 1,  Epoch: 36, main_model_loss = 0.5541642159223557\n",
      "Iter: 1,  Epoch: 37, main_model_loss = 0.555357038974762\n",
      "Iter: 1,  Epoch: 38, main_model_loss = 0.5485389207800229\n",
      "Iter: 1,  Epoch: 39, main_model_loss = 0.5547211642066638\n",
      "Iter: 1,  Epoch: 40, main_model_loss = 0.560862789551417\n",
      "Iter: 1,  Epoch: 41, main_model_loss = 0.5630400280157725\n",
      "Iter: 1,  Epoch: 42, main_model_loss = 0.56557118644317\n",
      "Iter: 1,  Epoch: 43, main_model_loss = 0.5577968160311381\n",
      "Iter: 1,  Epoch: 44, main_model_loss = 0.5532350614666938\n",
      "Iter: 1,  Epoch: 45, main_model_loss = 0.5580834199984868\n",
      "Iter: 1,  Epoch: 46, main_model_loss = 0.5494560350974401\n",
      "Iter: 1,  Epoch: 47, main_model_loss = 0.5521443287531536\n",
      "Iter: 1,  Epoch: 48, main_model_loss = 0.5607227062185606\n",
      "Iter: 1,  Epoch: 49, main_model_loss = 0.5483493084708849\n",
      "Iter: 1,  Epoch: 0, aux_model_loss = 0.24790140179296333\n",
      "Iter: 1,  Epoch: 1, aux_model_loss = 0.14512270130217075\n",
      "Iter: 1,  Epoch: 2, aux_model_loss = 0.12192466109991074\n",
      "Iter: 1,  Epoch: 3, aux_model_loss = 0.15011025406420228\n",
      "Iter: 1,  Epoch: 4, aux_model_loss = 0.20918873014549416\n",
      "Iter: 2,  Epoch: 0, main_model_loss = 0.537342314918836\n",
      "Iter: 2,  Epoch: 1, main_model_loss = 0.5495864997307459\n",
      "Iter: 2,  Epoch: 2, main_model_loss = 0.5307845746477445\n",
      "Iter: 2,  Epoch: 3, main_model_loss = 0.5334711074829102\n",
      "Iter: 2,  Epoch: 4, main_model_loss = 0.547120933731397\n",
      "Iter: 2,  Epoch: 5, main_model_loss = 0.5288982490698497\n",
      "Iter: 2,  Epoch: 6, main_model_loss = 0.5218118553360303\n",
      "Iter: 2,  Epoch: 7, main_model_loss = 0.5282180582483609\n",
      "Iter: 2,  Epoch: 8, main_model_loss = 0.5162774696946144\n",
      "Iter: 2,  Epoch: 9, main_model_loss = 0.5232064425945283\n",
      "Iter: 2,  Epoch: 10, main_model_loss = 0.5253619675834974\n",
      "Iter: 2,  Epoch: 11, main_model_loss = 0.5238125671943029\n",
      "Iter: 2,  Epoch: 12, main_model_loss = 0.5366644834478697\n",
      "Iter: 2,  Epoch: 13, main_model_loss = 0.5343056097626686\n",
      "Iter: 2,  Epoch: 14, main_model_loss = 0.5196730320652326\n",
      "Iter: 2,  Epoch: 15, main_model_loss = 0.5247119963169098\n",
      "Iter: 2,  Epoch: 16, main_model_loss = 0.5248576949040095\n",
      "Iter: 2,  Epoch: 17, main_model_loss = 0.5210086007912954\n",
      "Iter: 2,  Epoch: 18, main_model_loss = 0.5261218150456747\n",
      "Iter: 2,  Epoch: 19, main_model_loss = 0.5241571913162867\n",
      "Iter: 2,  Epoch: 20, main_model_loss = 0.5318308596809704\n",
      "Iter: 2,  Epoch: 21, main_model_loss = 0.5511624887585641\n",
      "Iter: 2,  Epoch: 22, main_model_loss = 0.5272722914814949\n",
      "Iter: 2,  Epoch: 23, main_model_loss = 0.5245137587189674\n",
      "Iter: 2,  Epoch: 24, main_model_loss = 0.5243288204073905\n",
      "Iter: 2,  Epoch: 25, main_model_loss = 0.512825734913349\n",
      "Iter: 2,  Epoch: 26, main_model_loss = 0.5129719475905101\n",
      "Iter: 2,  Epoch: 27, main_model_loss = 0.5198656717936198\n",
      "Iter: 2,  Epoch: 28, main_model_loss = 0.5091739917794863\n",
      "Iter: 2,  Epoch: 29, main_model_loss = 0.5191766371329626\n",
      "Iter: 2,  Epoch: 30, main_model_loss = 0.5314910436669985\n",
      "Iter: 2,  Epoch: 31, main_model_loss = 0.5101054919262727\n",
      "Iter: 2,  Epoch: 32, main_model_loss = 0.5164234265685081\n",
      "Iter: 2,  Epoch: 33, main_model_loss = 0.5289923697710038\n",
      "Iter: 2,  Epoch: 34, main_model_loss = 0.5084976032376289\n",
      "Iter: 2,  Epoch: 35, main_model_loss = 0.5152243276437123\n",
      "Iter: 2,  Epoch: 36, main_model_loss = 0.5372297987341881\n",
      "Iter: 2,  Epoch: 37, main_model_loss = 0.5133027508854866\n"
     ]
    },
    {
     "name": "stdout",
     "output_type": "stream",
     "text": [
      "Iter: 2,  Epoch: 38, main_model_loss = 0.5141347299019496\n",
      "Iter: 2,  Epoch: 39, main_model_loss = 0.5405498358110586\n",
      "Iter: 2,  Epoch: 40, main_model_loss = 0.5356462324659029\n",
      "Iter: 2,  Epoch: 41, main_model_loss = 0.5206881413857142\n",
      "Iter: 2,  Epoch: 42, main_model_loss = 0.5168578152855238\n",
      "Iter: 2,  Epoch: 43, main_model_loss = 0.5107244079311688\n",
      "Iter: 2,  Epoch: 44, main_model_loss = 0.5066191541651885\n",
      "Iter: 2,  Epoch: 45, main_model_loss = 0.502133014301459\n",
      "Iter: 2,  Epoch: 46, main_model_loss = 0.511499257137378\n",
      "Iter: 2,  Epoch: 47, main_model_loss = 0.5070947147905827\n",
      "Iter: 2,  Epoch: 48, main_model_loss = 0.5042511050899823\n",
      "Iter: 2,  Epoch: 49, main_model_loss = 0.5279728720585505\n",
      "Iter: 2,  Epoch: 0, aux_model_loss = 0.25513849655787146\n",
      "Iter: 2,  Epoch: 1, aux_model_loss = 0.34786472966273624\n",
      "Iter: 2,  Epoch: 2, aux_model_loss = 0.5180157894889513\n",
      "Iter: 2,  Epoch: 3, aux_model_loss = 0.6192836488286654\n",
      "Iter: 2,  Epoch: 4, aux_model_loss = 0.67908992121617\n",
      "Iter: 3,  Epoch: 0, main_model_loss = 0.6528822580973308\n",
      "Iter: 3,  Epoch: 1, main_model_loss = 0.6296121676762899\n",
      "Iter: 3,  Epoch: 2, main_model_loss = 0.6287174895405768\n",
      "Iter: 3,  Epoch: 3, main_model_loss = 0.6520278130968412\n",
      "Iter: 3,  Epoch: 4, main_model_loss = 0.6312562301754951\n",
      "Iter: 3,  Epoch: 5, main_model_loss = 0.6412199909488361\n",
      "Iter: 3,  Epoch: 6, main_model_loss = 0.6607275456190109\n",
      "Iter: 3,  Epoch: 7, main_model_loss = 0.6364770705501239\n",
      "Iter: 3,  Epoch: 8, main_model_loss = 0.6417921384175619\n",
      "Iter: 3,  Epoch: 9, main_model_loss = 0.654417117436727\n",
      "Iter: 3,  Epoch: 10, main_model_loss = 0.6388560359676679\n",
      "Iter: 3,  Epoch: 11, main_model_loss = 0.6294943938652674\n",
      "Iter: 3,  Epoch: 12, main_model_loss = 0.6327312439680101\n",
      "Iter: 3,  Epoch: 13, main_model_loss = 0.6166295185685157\n",
      "Iter: 3,  Epoch: 14, main_model_loss = 0.6149584477146467\n",
      "Iter: 3,  Epoch: 15, main_model_loss = 0.6294242863853772\n",
      "Iter: 3,  Epoch: 16, main_model_loss = 0.6323064143459003\n",
      "Iter: 3,  Epoch: 17, main_model_loss = 0.6218568533658981\n",
      "Iter: 3,  Epoch: 18, main_model_loss = 0.6224008401234944\n",
      "Iter: 3,  Epoch: 19, main_model_loss = 0.6244430020451546\n",
      "Iter: 3,  Epoch: 20, main_model_loss = 0.609368232389291\n",
      "Iter: 3,  Epoch: 21, main_model_loss = 0.6111759121219318\n",
      "Iter: 3,  Epoch: 22, main_model_loss = 0.6243853444854418\n",
      "Iter: 3,  Epoch: 23, main_model_loss = 0.6142164568106333\n",
      "Iter: 3,  Epoch: 24, main_model_loss = 0.6247910261154175\n",
      "Iter: 3,  Epoch: 25, main_model_loss = 0.6324739754199982\n",
      "Iter: 3,  Epoch: 26, main_model_loss = 0.620396077632904\n",
      "Iter: 3,  Epoch: 27, main_model_loss = 0.6114152719577154\n",
      "Iter: 3,  Epoch: 28, main_model_loss = 0.6151218563318254\n",
      "Iter: 3,  Epoch: 29, main_model_loss = 0.6217494358619055\n",
      "Iter: 3,  Epoch: 30, main_model_loss = 0.6084728563825289\n",
      "Iter: 3,  Epoch: 31, main_model_loss = 0.6077917118867239\n",
      "Iter: 3,  Epoch: 32, main_model_loss = 0.6239567026495932\n",
      "Iter: 3,  Epoch: 33, main_model_loss = 0.6122721607486407\n",
      "Iter: 3,  Epoch: 34, main_model_loss = 0.6126338392496109\n",
      "Iter: 3,  Epoch: 35, main_model_loss = 0.6330369785428047\n",
      "Iter: 3,  Epoch: 36, main_model_loss = 0.6487943281730015\n",
      "Iter: 3,  Epoch: 37, main_model_loss = 0.6285111506779989\n",
      "Iter: 3,  Epoch: 38, main_model_loss = 0.6179393629233043\n",
      "Iter: 3,  Epoch: 39, main_model_loss = 0.6360186363259952\n",
      "Iter: 3,  Epoch: 40, main_model_loss = 0.6161672075589498\n",
      "Iter: 3,  Epoch: 41, main_model_loss = 0.6361236174901327\n",
      "Iter: 3,  Epoch: 42, main_model_loss = 0.6492244551579157\n",
      "Iter: 3,  Epoch: 43, main_model_loss = 0.6272558867931365\n",
      "Iter: 3,  Epoch: 44, main_model_loss = 0.6368645081917444\n",
      "Iter: 3,  Epoch: 45, main_model_loss = 0.6522365212440491\n",
      "Iter: 3,  Epoch: 46, main_model_loss = 0.6615786751111348\n",
      "Iter: 3,  Epoch: 47, main_model_loss = 0.6622359926501911\n",
      "Iter: 3,  Epoch: 48, main_model_loss = 0.644608090321223\n",
      "Iter: 3,  Epoch: 49, main_model_loss = 0.6190703064203262\n",
      "Iter: 3,  Epoch: 0, aux_model_loss = 0.6181893969575565\n",
      "Iter: 3,  Epoch: 1, aux_model_loss = 0.4472816710670789\n",
      "Iter: 3,  Epoch: 2, aux_model_loss = 0.31809049410124624\n",
      "Iter: 3,  Epoch: 3, aux_model_loss = 0.144628860677282\n",
      "Iter: 3,  Epoch: 4, aux_model_loss = 0.09531250906487305\n",
      "Iter: 4,  Epoch: 0, main_model_loss = 0.4275860687096914\n",
      "Iter: 4,  Epoch: 1, main_model_loss = 0.3950155538817247\n",
      "Iter: 4,  Epoch: 2, main_model_loss = 0.3749320345620314\n",
      "Iter: 4,  Epoch: 3, main_model_loss = 0.38201333582401276\n",
      "Iter: 4,  Epoch: 4, main_model_loss = 0.39268017063538235\n",
      "Iter: 4,  Epoch: 5, main_model_loss = 0.37845898978412146\n",
      "Iter: 4,  Epoch: 6, main_model_loss = 0.3570768628269434\n",
      "Iter: 4,  Epoch: 7, main_model_loss = 0.35218049958348274\n",
      "Iter: 4,  Epoch: 8, main_model_loss = 0.3534341665605704\n",
      "Iter: 4,  Epoch: 9, main_model_loss = 0.3625320062662164\n",
      "Iter: 4,  Epoch: 10, main_model_loss = 0.3610515206431349\n",
      "Iter: 4,  Epoch: 11, main_model_loss = 0.3653455351789792\n",
      "Iter: 4,  Epoch: 12, main_model_loss = 0.37154501024633646\n",
      "Iter: 4,  Epoch: 13, main_model_loss = 0.35498354149361455\n",
      "Iter: 4,  Epoch: 14, main_model_loss = 0.355346011929214\n",
      "Iter: 4,  Epoch: 15, main_model_loss = 0.3614641185849905\n",
      "Iter: 4,  Epoch: 16, main_model_loss = 0.3416261551901698\n",
      "Iter: 4,  Epoch: 17, main_model_loss = 0.3434569202363491\n",
      "Iter: 4,  Epoch: 18, main_model_loss = 0.35437873130043346\n",
      "Iter: 4,  Epoch: 19, main_model_loss = 0.35057678384085494\n",
      "Iter: 4,  Epoch: 20, main_model_loss = 0.3668497378627459\n",
      "Iter: 4,  Epoch: 21, main_model_loss = 0.39050700391332305\n",
      "Iter: 4,  Epoch: 22, main_model_loss = 0.3569279353444775\n",
      "Iter: 4,  Epoch: 23, main_model_loss = 0.3558882251381874\n",
      "Iter: 4,  Epoch: 24, main_model_loss = 0.36205840219433116\n",
      "Iter: 4,  Epoch: 25, main_model_loss = 0.3498422879104813\n",
      "Iter: 4,  Epoch: 26, main_model_loss = 0.3557230532169342\n",
      "Iter: 4,  Epoch: 27, main_model_loss = 0.3737427853047848\n",
      "Iter: 4,  Epoch: 28, main_model_loss = 0.3602450399970014\n",
      "Iter: 4,  Epoch: 29, main_model_loss = 0.36370889904598397\n",
      "Iter: 4,  Epoch: 30, main_model_loss = 0.3604911953831712\n",
      "Iter: 4,  Epoch: 31, main_model_loss = 0.3543318466593822\n",
      "Iter: 4,  Epoch: 32, main_model_loss = 0.3496402023981015\n",
      "Iter: 4,  Epoch: 33, main_model_loss = 0.3595183988412221\n",
      "Iter: 4,  Epoch: 34, main_model_loss = 0.36514847942938405\n",
      "Iter: 4,  Epoch: 35, main_model_loss = 0.3553241783132156\n",
      "Iter: 4,  Epoch: 36, main_model_loss = 0.3531862907111645\n",
      "Iter: 4,  Epoch: 37, main_model_loss = 0.3353084959089756\n",
      "Iter: 4,  Epoch: 38, main_model_loss = 0.33784912091990316\n",
      "Iter: 4,  Epoch: 39, main_model_loss = 0.3446008749306202\n",
      "Iter: 4,  Epoch: 40, main_model_loss = 0.3347709358980258\n",
      "Iter: 4,  Epoch: 41, main_model_loss = 0.33364549092948437\n",
      "Iter: 4,  Epoch: 42, main_model_loss = 0.333622388386478\n",
      "Iter: 4,  Epoch: 43, main_model_loss = 0.32912622205913067\n",
      "Iter: 4,  Epoch: 44, main_model_loss = 0.32876120756069815\n",
      "Iter: 4,  Epoch: 45, main_model_loss = 0.33816529562075937\n",
      "Iter: 4,  Epoch: 46, main_model_loss = 0.3408840560199072\n",
      "Iter: 4,  Epoch: 47, main_model_loss = 0.3613959942013025\n",
      "Iter: 4,  Epoch: 48, main_model_loss = 0.3680031932890415\n",
      "Iter: 4,  Epoch: 49, main_model_loss = 0.35100014787167316\n",
      "Iter: 4,  Epoch: 0, aux_model_loss = 0.06544074462726712\n",
      "Iter: 4,  Epoch: 1, aux_model_loss = 0.06555725991105041\n",
      "Iter: 4,  Epoch: 2, aux_model_loss = 0.06685382096717755\n",
      "Iter: 4,  Epoch: 3, aux_model_loss = 0.07601003395393491\n",
      "Iter: 4,  Epoch: 4, aux_model_loss = 0.08367668883875012\n"
     ]
    }
   ],
   "source": [
    "uq_model = uq_model.fit(X_train, y_train)"
   ]
  },
  {
   "cell_type": "code",
   "execution_count": 12,
   "metadata": {},
   "outputs": [],
   "source": [
    "y_mean, y_lower, y_upper = uq_model.predict(X_test)\n",
    "y_mean, y_lower, y_upper = scaler_y.inverse_transform(y_mean), scaler_y.inverse_transform(y_lower), scaler_y.inverse_transform(y_upper)\n",
    "X_test = scaler_X.inverse_transform(X_test)"
   ]
  },
  {
   "cell_type": "code",
   "execution_count": 13,
   "metadata": {},
   "outputs": [],
   "source": [
    "pred_dict = {'rooms': X_test[:,0],\n",
    "             'y': y_test[:,0],\n",
    "             'y_mean': y_mean[:,0],\n",
    "             'y_upper': y_upper[:,0],\n",
    "             'y_lower': y_lower[:,0]\n",
    "            }\n",
    "\n",
    "pred_df = pd.DataFrame(data=pred_dict)\n",
    "\n",
    "pred_df_sorted = pred_df.sort_values(by='rooms')"
   ]
  },
  {
   "cell_type": "code",
   "execution_count": 14,
   "metadata": {},
   "outputs": [
    {
     "data": {
      "text/plain": [
       "Text(0.5, 1.0, 'Test data PICP: 0.95 MPIW: 18.40')"
      ]
     },
     "execution_count": 14,
     "metadata": {},
     "output_type": "execute_result"
    },
    {
     "data": {
      "image/png": "[encoded data removed]",
      "text/plain": [
       "<Figure size 432x288 with 1 Axes>"
      ]
     },
     "metadata": {
      "needs_background": "light"
     },
     "output_type": "display_data"
    }
   ],
   "source": [
    "plt.plot(pred_df_sorted['rooms'], pred_df_sorted['y'], 'o', label='ground truth')\n",
    "plt.plot(pred_df_sorted['rooms'], pred_df_sorted['y_mean'], '-', lw=2, label='mean')\n",
    "plt.fill_between(pred_df_sorted['rooms'],\n",
    "                         pred_df_sorted['y_upper'],\n",
    "                         pred_df_sorted['y_lower'],\n",
    "                         alpha=0.3, label='total uncertianty')\n",
    "plt.legend()\n",
    "plt.xlabel('#of rooms')\n",
    "plt.ylabel('house price in $1000')\n",
    "plt.title('Test data PICP: {:.2f} MPIW: {:.2f}'.format(\n",
    "    picp(y_test, y_lower, y_upper),\n",
    "    mpiw(y_lower, y_upper))      \n",
    "         )"
   ]
  },
  {
   "cell_type": "markdown",
   "metadata": {},
   "source": [
    "#### Let us now plot the AUUCC"
   ]
  },
  {
   "cell_type": "code",
   "execution_count": 15,
   "metadata": {},
   "outputs": [],
   "source": [
    "def form_D(yhat, zhatl, zhatu):\n",
    "    # a handy routine to format data as needed by the UCC fit() method\n",
    "    D = np.zeros([yhat.shape[0],3])\n",
    "    D[:, 0] = yhat\n",
    "    D[:, 1] = zhatl\n",
    "    D[:, 2] = zhatu\n",
    "    return D"
   ]
  },
  {
   "cell_type": "code",
   "execution_count": 16,
   "metadata": {},
   "outputs": [],
   "source": [
    "# form matrix for ucc:\n",
    "X_for_ucc = form_D(y_mean[:,0], y_mean[:,0] - y_lower[:,0], y_upper[:,0] - y_mean[:,0])\n",
    "\n",
    "# create an instance of ucc and fit data\n",
    "u = ucc()\n",
    "u.fit(X_for_ucc, y_test[:,0])"
   ]
  },
  {
   "cell_type": "code",
   "execution_count": 17,
   "metadata": {},
   "outputs": [
    {
     "data": {
      "image/png": "[encoded data removed]",
      "text/plain": [
       "<Figure size 432x288 with 1 Axes>"
      ]
     },
     "metadata": {
      "needs_background": "light"
     },
     "output_type": "display_data"
    },
    {
     "name": "stdout",
     "output_type": "stream",
     "text": [
      "AUUCC is 0.38, OP = (0.11, 0.05)\n"
     ]
    }
   ],
   "source": [
    "u.set_coordinates(x_axis_name='bandwidth', y_axis_name='missrate', normalize=True)\n",
    "auucc, op_info = u.plot_UCC(titlestr=('AUUCC'))\n",
    "print(\"AUUCC is %.2f, OP = (%.2f, %.2f)\" % (auucc, op_info[0]/op_info[2], op_info[1]))"
   ]
  },
  {
   "cell_type": "code",
   "execution_count": 18,
   "metadata": {},
   "outputs": [
    {
     "data": {
      "text/plain": [
       "{'rmse': 6.423551354032002,\n",
       " 'nll': 3.238566733033707,\n",
       " 'auucc_gain': -0.057818056692314,\n",
       " 'picp': 0.9473684210526315,\n",
       " 'mpiw': 18.40138,\n",
       " 'r2': 0.5044524901328749}"
      ]
     },
     "execution_count": 18,
     "metadata": {},
     "output_type": "execute_result"
    }
   ],
   "source": [
    "compute_regression_metrics(y_test, y_mean, y_lower, y_upper)"
   ]
  },
  {
   "cell_type": "code",
   "execution_count": null,
   "metadata": {},
   "outputs": [],
   "source": []
  }
 ],
 "metadata": {
  "kernelspec": {
   "display_name": "Python 3",
   "language": "python",
   "name": "python3"
  },
  "language_info": {
   "codemirror_mode": {
    "name": "ipython",
    "version": 3
   },
   "file_extension": ".py",
   "mimetype": "text/x-python",
   "name": "python",
   "nbconvert_exporter": "python",
   "pygments_lexer": "ipython3",
   "version": "3.7.10"
  }
 },
 "nbformat": 4,
 "nbformat_minor": 2
}

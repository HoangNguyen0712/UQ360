{
 "cells": [
  {
   "cell_type": "code",
   "execution_count": 1,
   "metadata": {
    "pycharm": {
     "name": "#%%\n"
    }
   },
   "outputs": [],
   "source": [
    "import sys\n",
    "sys.path.append(\"../../\")"
   ]
  },
  {
   "cell_type": "code",
   "execution_count": 2,
   "metadata": {
    "pycharm": {
     "name": "#%%\n"
    }
   },
   "outputs": [],
   "source": [
    "import autograd\n",
    "import autograd.numpy as np\n",
    "import matplotlib.pyplot as plt\n",
    "import numpy.random as npr\n",
    "from autograd import grad\n",
    "from uq360.utils.hidden_markov_model import HMM\n",
    "from uq360.algorithms.infinitesimal_jackknife.infinitesimal_jackknife import InfinitesimalJackknife\n",
    "%matplotlib inline"
   ]
  },
  {
   "cell_type": "markdown",
   "metadata": {
    "pycharm": {
     "name": "#%% md\n"
    }
   },
   "source": [
    "In this notebook, we will look at structured infinitesimal jackknife (IJ) approximations for cases where data are not independent across folds of the jackknife. We will illustrate this by leaving time-steps out of an hidden Markov model. "
   ]
  },
  {
   "cell_type": "markdown",
   "metadata": {
    "pycharm": {
     "name": "#%% md\n"
    }
   },
   "source": [
    "The key difference between the hidden Markov model (HMM) and logistic regression (in demo_infinitesimal_jackknife) is that instead of a loss method, we have a weigted_loss method for HMMs. The weighted_loss accounts for weights on different sites within a strucutre. For temporal data modeled by a HMM, we assign weights $w_t$ to the observation $x_t$ at time-step $t$. The weighted_loss method then runs a weighted instance of belief propagation (also known as the forward algorithm for HMMs) to compute the appropriate loss. See https://arxiv.org/pdf/2006.12669.pdf (in particular Appendix D) for more details.    \n",
    "\n",
    "Let us now use the IJ approximation to jackknife to get confidence intervals."
   ]
  },
  {
   "cell_type": "markdown",
   "metadata": {},
   "source": [
    "## Fit the model to simulated data"
   ]
  },
  {
   "cell_type": "code",
   "execution_count": 3,
   "metadata": {
    "pycharm": {
     "name": "#%%\n"
    }
   },
   "outputs": [],
   "source": [
    "# generate simulated data\n",
    "K = 2  # number of states\n",
    "T = 1000 # number of time steps\n",
    "D = 1 # dimensionality of the data\n",
    "data = HMM.synthetic_hmm_data(K, T, D, diagonal_upweight=True, varainces_of_mean=2.0) # well separated states\n",
    "inputs = data['X']\n",
    "hmm_config_dict = {'K': K, 'precision': None}\n",
    "hmm = HMM(inputs, config_dict=hmm_config_dict)\n",
    "\n",
    "# Standard MLE model fit\n",
    "T = inputs.shape[1]\n",
    "weights_one = np.ones([T])\n",
    "params_one = hmm.fit(weights_one)\n",
    "H = hmm.compute_hessian(params_one, weights_one)\n",
    "J = hmm.compute_jacobian(params_one, weights_one)\n",
    "\n",
    "# Approximate Jackknife\n",
    "config = {\"alpha\": 0.01, \"resampling_strategy\": 'jackknife'}\n",
    "ij = InfinitesimalJackknife(params_one, J, H, config)"
   ]
  },
  {
   "cell_type": "code",
   "execution_count": 4,
   "metadata": {},
   "outputs": [
    {
     "name": "stdout",
     "output_type": "stream",
     "text": [
      "[[ 1.21564159]\n",
      " [-0.90018017]] [[-0.87747702  1.20937082]]\n"
     ]
    }
   ],
   "source": [
    "params_exact = params_one\n",
    "param_dict_exact = hmm.unpack_params(params_exact)\n",
    "print (data['means'], param_dict_exact['phi'])"
   ]
  },
  {
   "cell_type": "markdown",
   "metadata": {
    "pycharm": {
     "name": "#%% md\n"
    }
   },
   "source": [
    "## Is IJ an accurate approximation to Exact Jackknife?"
   ]
  },
  {
   "cell_type": "markdown",
   "metadata": {},
   "source": [
    "First we will verify that infinitesimal jackknife is a good approximation to exact jackknife.\n",
    "We will do so by running exact jackknife on a subset of the data and comparing with IJ."
   ]
  },
  {
   "cell_type": "code",
   "execution_count": 5,
   "metadata": {
    "pycharm": {
     "name": "#%%\n"
    }
   },
   "outputs": [
    {
     "name": "stdout",
     "output_type": "stream",
     "text": [
      "Performing Exact JackKnife\n",
      "Mean Absolute Deviation between approximate and exact jackknife:  0.017300141234013803\n"
     ]
    },
    {
     "data": {
      "image/png": "[encoded data removed]",
      "text/plain": [
       "<Figure size 360x360 with 1 Axes>"
      ]
     },
     "metadata": {
      "needs_background": "light"
     },
     "output_type": "display_data"
    }
   ],
   "source": [
    "# compare approximate with exact jackknife for a few points\n",
    "o = HMM.get_indices_in_held_out_fold(T=T, pct_to_drop=15, contiguous=True)\n",
    "weights = np.ones([T])\n",
    "weights[o] = 0\n",
    "params_ij = ij.ij(weights.squeeze())\n",
    "approx_loss = hmm.loss_at_missing_timesteps(weights, params=params_ij)\n",
    "print (\"Performing Exact JackKnife\")\n",
    "params_exact = hmm.fit(weights, init_params=params_one)  # exact params with warm start\n",
    "exact_loss = hmm.loss_at_missing_timesteps(weights, params=params_exact)\n",
    "\n",
    "plt.figure(figsize=(5,5))\n",
    "plt.plot(exact_loss, approx_loss, 'ro', ms=10, alpha=0.5)\n",
    "plt.plot([0, 5], [0, 5], 'k--', lw=3)\n",
    "plt.xlabel(\"Exact\", fontsize=20)\n",
    "plt.ylabel(\"IJ\", fontsize=20)\n",
    "\n",
    "print(\"Mean Absolute Deviation between approximate and exact jackknife: \",\n",
    "      np.mean(np.abs(exact_loss - approx_loss)))\n",
    "assert np.allclose(exact_loss, approx_loss, atol=1e-1, rtol=1e-1)"
   ]
  },
  {
   "cell_type": "markdown",
   "metadata": {},
   "source": [
    "As we can see, there is strong agreement between exact and approximate (IJ) jackknife."
   ]
  },
  {
   "cell_type": "markdown",
   "metadata": {},
   "source": [
    "## Predictive uncertainties \n",
    "Next, we will use IJ to get predictive uncertainties --- unceratinties in HMM sample paths."
   ]
  },
  {
   "cell_type": "code",
   "execution_count": 6,
   "metadata": {},
   "outputs": [],
   "source": [
    "def posterior_predictive_samples(hmm, param_dict, T=1000):\n",
    "        npr.seed(24) # resetting seed ensures that different draws np.random.* are different only when the parameters are different\n",
    "        pi0 = param_dict['pi0']\n",
    "        phi = param_dict['phi']\n",
    "        A = param_dict['A']\n",
    "        K = hmm.K\n",
    "        D = hmm.D\n",
    "        C = 1./hmm.Precision # ASSUMES diagonal precisions\n",
    "        zs = np.empty((T), dtype=np.int)\n",
    "        X = np.empty((T, D))\n",
    "        zs[0] = int(np.random.choice(np.arange(K), p=pi0))\n",
    "        X[0] = np.random.multivariate_normal(mean=phi[:, zs[0]], cov=C[:, :, zs[0]]) \n",
    "        for t in range(1, T):\n",
    "            zs[t] = int(np.random.choice(np.arange(K), p=A[zs[t - 1], :]))\n",
    "            X[t] = np.random.multivariate_normal(mean=phi[:, zs[t]], cov=C[:, :, zs[t]])\n",
    "        \n",
    "        return X, zs"
   ]
  },
  {
   "cell_type": "markdown",
   "metadata": {},
   "source": [
    "We will next use a 1000 delete-d jacknife folds (each fold will leave out d timesteps chosen at random from the original time series), use IJ to approximate the parameters for each fold and compute the resulting uncertainty in the data space. "
   ]
  },
  {
   "cell_type": "code",
   "execution_count": 7,
   "metadata": {},
   "outputs": [],
   "source": [
    "num_folds = 1000\n",
    "ppred_signal_length = 50\n",
    "x = np.empty([num_folds, ppred_signal_length])\n",
    "z = np.empty([num_folds, ppred_signal_length], dtype=int)\n",
    "mus = np.empty([num_folds, hmm.K])\n",
    "A = np.empty([num_folds, hmm.K, hmm.K])\n",
    "for n in np.arange(num_folds):\n",
    "    np.random.seed(n)\n",
    "    o = HMM.get_indices_in_held_out_fold(T=hmm.T, pct_to_drop=25, contiguous=False)\n",
    "    weights = np.ones([T])\n",
    "    weights[o] = 0\n",
    "    params_ij = ij.ij(weights.squeeze())\n",
    "    param_dict = hmm.unpack_params(params_ij)\n",
    "    mus[n] = param_dict['phi']\n",
    "    A[n] = param_dict['A']\n",
    "    r = posterior_predictive_samples(hmm, param_dict, T=ppred_signal_length)\n",
    "    x[n] = r[0].squeeze()\n",
    "    z[n] = r[1].squeeze().astype(int)"
   ]
  },
  {
   "cell_type": "markdown",
   "metadata": {},
   "source": [
    "First let's look at the uncertainity in the observation means of the two states."
   ]
  },
  {
   "cell_type": "code",
   "execution_count": 8,
   "metadata": {},
   "outputs": [
    {
     "data": {
      "text/plain": [
       "<matplotlib.legend.Legend at 0x7fe760d4ddd0>"
      ]
     },
     "execution_count": 8,
     "metadata": {},
     "output_type": "execute_result"
    },
    {
     "data": {
      "image/png": "[encoded data removed]",
      "text/plain": [
       "<Figure size 504x360 with 1 Axes>"
      ]
     },
     "metadata": {
      "needs_background": "light"
     },
     "output_type": "display_data"
    }
   ],
   "source": [
    "plt.figure(figsize=(7, 5))\n",
    "std_mu = np.std(mus, axis=0)\n",
    "plt.errorbar(x=[5, 7.5], y=param_dict_exact['phi'][0], yerr=2*std_mu, marker ='o', ms=7.5, ls='', \n",
    "             color='r', alpha=0.5, label='MAP and uncertainty')\n",
    "plt.plot([5, 7.5], data['means'][::-1], 'k+', ms=7.5, label='True') # accounts for label switching --- states flipping because of inherent non-identifiabilityy\n",
    "plt.xticks([5, 7.5], labels=['State 1', 'State 2'], fontsize=20)\n",
    "plt.yticks(fontsize=15)\n",
    "plt.title('State Means +/- 2 standard deviation', fontsize=15)\n",
    "plt.legend(fontsize=15)\n",
    "\n"
   ]
  },
  {
   "cell_type": "markdown",
   "metadata": {},
   "source": [
    "Next we will visualize the uncertainty in HMM sample paths. We will do this by setting the HMM parameters to the parameters approximated by IJ after leaving out each of the 1000 folds. For each paramter setting we will draw a single sample path (with a shared random seed). The variability in the sample paths provide a measure of the **epistemic uncertainty** --- uncertainty in the HMM parameters."
   ]
  },
  {
   "cell_type": "code",
   "execution_count": 9,
   "metadata": {},
   "outputs": [],
   "source": [
    "std_x = np.std(x, axis=0)\n",
    "mean_x = np.mean(x, axis=0)"
   ]
  },
  {
   "cell_type": "code",
   "execution_count": null,
   "metadata": {},
   "outputs": [
    {
     "data": {
      "text/plain": [
       "<matplotlib.legend.Legend at 0x7fe7b605f490>"
      ]
     },
     "execution_count": 10,
     "metadata": {},
     "output_type": "execute_result"
    }
   ],
   "source": [
    "plt.figure(figsize=(20, 3))\n",
    "plt_x = np.arange(ppred_signal_length)\n",
    "plt.plot(mean_x, 'k--', alpha=0.25,)\n",
    "plt.fill_between(plt_x, mean_x - 2 * std_x, mean_x + 2 *std_x, color='b', alpha=0.5)\n",
    "cs = ['xkcd:magenta', 'xkcd:navy']\n",
    "plt.plot(-5, param_dict_exact['phi'][0][0], '+', alpha=1., color=cs[0], label=\"State 1\") \n",
    "plt.plot(-5, param_dict_exact['phi'][0][1], '+', alpha=1., color=cs[1], label=\"State 2\") \n",
    "for n in np.arange(1000):\n",
    "    for t in plt_x:\n",
    "        plt.plot(t+2*1e-2*np.random.randn(), param_dict_exact['phi'][0][z[n, t]]+3*1e-2*np.random.randn(), '+', alpha=1., color=cs[z[n, t]]) # adds jitter to x and y axis\n",
    "        \n",
    "plt.title(\"Epistemic Uncertainty in HMM sample paths (1000 jackknfie folds)\", fontsize=20)\n",
    "plt.yticks(fontsize=15)\n",
    "plt.xticks(fontsize=15)\n",
    "plt.legend(fontsize=20, loc=\"lower left\")"
   ]
  },
  {
   "cell_type": "markdown",
   "metadata": {},
   "source": [
    "For this simple problem, the uncertainty in the observation and transition parameters is small. However, when simulating from the learned model, small changes to the paramters can lead to changes in state assignments leading to larger predictive uncertainties. In the figure above, the black and magenta +s are plotted such that their x-coordinate corresponds to the time step and their y-coordinate corresponds to the means of the Gaussian distribution for each state. We plot a + for each time step (50 in all) within each sample path (1000 in all). Different paramters may assign the same time step to different states, this corresponds to the black and magenta +s sharing the same x-coordinate in the plot and typically results in higher uncertainty. "
   ]
  },
  {
   "cell_type": "markdown",
   "metadata": {},
   "source": [
    "We can additionally visualize the total uncertainty. As an approximation we simply add the two sources of uncertainty (aleatoric --- from the Gaussian observation model's variance and the epistemic uncertainty from our approximation to delete-d jackknfie via IJ). In the plot below we highlight the epistemic component of the total uncertainty."
   ]
  },
  {
   "cell_type": "code",
   "execution_count": null,
   "metadata": {},
   "outputs": [],
   "source": [
    "plt.figure(figsize=(20, 3))\n",
    "plt_x = np.arange(ppred_signal_length)\n",
    "plt.plot(mean_x, 'k--', alpha=0.25,)\n",
    "plt.fill_between(plt_x, mean_x - 2 * std_x - 2 * np.sqrt(1./hmm.Precision.squeeze()[0]), mean_x + 2 *std_x + 2 * np.sqrt(1./hmm.Precision.squeeze()[0]), color='k', alpha=0.5)\n",
    "plt.fill_between(plt_x, mean_x - 2 * std_x, mean_x + 2 * std_x, color='b', alpha=0.5)        \n",
    "\n",
    "plt.title(\"Total Uncertainty in HMM sample paths (1000 jackknfie folds)\", fontsize=20)\n",
    "plt.yticks(fontsize=15)\n",
    "plt.xticks(fontsize=15)\n",
    "plt.legend(fontsize=20, loc=\"lower left\")"
   ]
  }
 ],
 "metadata": {
  "kernelspec": {
   "display_name": "Python 3",
   "language": "python",
   "name": "python3"
  },
  "language_info": {
   "codemirror_mode": {
    "name": "ipython",
    "version": 3
   },
   "file_extension": ".py",
   "mimetype": "text/x-python",
   "name": "python",
   "nbconvert_exporter": "python",
   "pygments_lexer": "ipython3",
   "version": "3.7.10"
  }
 },
 "nbformat": 4,
 "nbformat_minor": 1
}

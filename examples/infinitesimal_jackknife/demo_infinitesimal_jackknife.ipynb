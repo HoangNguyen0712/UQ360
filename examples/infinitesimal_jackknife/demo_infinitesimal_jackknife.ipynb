{
 "cells": [
  {
   "cell_type": "code",
   "execution_count": 1,
   "metadata": {},
   "outputs": [],
   "source": [
    "import sys\n",
    "sys.path.append(\"../../\")"
   ]
  },
  {
   "cell_type": "code",
   "execution_count": 2,
   "metadata": {
    "pycharm": {
     "name": "#%%\n"
    }
   },
   "outputs": [],
   "source": [
    "import numpy as np\n",
    "import matplotlib.pyplot as plt\n",
    "from uq360.algorithms.infinitesimal_jackknife.infinitesimal_jackknife import InfinitesimalJackknife\n",
    "from uq360.utils.logistic_regression import LogisticRegression, get_num_train, logistic_predictions\n",
    "%matplotlib inline"
   ]
  },
  {
   "cell_type": "markdown",
   "metadata": {
    "pycharm": {
     "name": "#%% md\n"
    }
   },
   "source": [
    "In this notebook, we will illustrate infinitesimal jackknife (IJ) for logistic regression. Let's define the model."
   ]
  },
  {
   "cell_type": "markdown",
   "metadata": {
    "pycharm": {
     "name": "#%% md\n"
    }
   },
   "source": [
    "The only non-standard components of the model defined above are the functions compute_hessian\n",
    "and compute_dparams_dweights. Both of these functions are required for IJ computation.\n",
    "Models that aim to use IJ need to implement these two functions.\n",
    "\n",
    "Let us now use the IJ approximation to jackknife to get confidence intervals."
   ]
  },
  {
   "cell_type": "markdown",
   "metadata": {},
   "source": [
    "## Fit the model to simulated data"
   ]
  },
  {
   "cell_type": "code",
   "execution_count": 3,
   "metadata": {
    "pycharm": {
     "name": "#%%\n"
    }
   },
   "outputs": [
    {
     "name": "stdout",
     "output_type": "stream",
     "text": [
      "Initial loss: 7669.8815912718555\n",
      "Warning: Desired error not necessarily achieved due to precision loss.\n",
      "         Current function value: 4186.835118\n",
      "         Iterations: 27\n",
      "         Function evaluations: 43\n",
      "         Gradient evaluations: 43\n",
      "Trained loss: 4186.835117603553\n",
      "Maximum Likelihood Solution's Test Accuracy 0.8009999999999999\n"
     ]
    }
   ],
   "source": [
    "lr = LogisticRegression()\n",
    "# generate simulated data\n",
    "inputs, targets, test_inputs, test_targets = lr.synthetic_lr_data()\n",
    "init_params = 1e-1 * np.random.randn(inputs.shape[1])\n",
    "\n",
    "# Standard MLE model fit\n",
    "weights_one = np.ones([1, get_num_train(inputs)])\n",
    "params_one = lr.fit(weights_one, init_params, inputs, targets)\n",
    "print(\"Maximum Likelihood Solution's Test Accuracy {0}\".format(\n",
    "lr.get_test_acc(params_one, test_targets, test_inputs)))\n",
    "H = lr.compute_hessian(params_one, weights_one, inputs, targets)\n",
    "J = lr.compute_jacobian(params_one, weights_one, inputs, targets)\n",
    "\n",
    "# Approximate Jackknife\n",
    "config = {\"alpha\": 0.01, \"resampling_strategy\": 'jackknife'}\n",
    "ij = InfinitesimalJackknife(params_one, J, H, config)"
   ]
  },
  {
   "cell_type": "markdown",
   "metadata": {
    "pycharm": {
     "name": "#%% md\n"
    }
   },
   "source": [
    "## Is IJ an accurate approximation to Exact Jackknife?"
   ]
  },
  {
   "cell_type": "markdown",
   "metadata": {},
   "source": [
    "First we will verify that infinitesimal jackknife is a good approximation to exact jackknife.\n",
    "We will do so by running exact jackknife on a subset of the data and comparing with IJ."
   ]
  },
  {
   "cell_type": "code",
   "execution_count": 4,
   "metadata": {
    "pycharm": {
     "name": "#%%\n"
    }
   },
   "outputs": [
    {
     "name": "stdout",
     "output_type": "stream",
     "text": [
      "Mean Absolute Deviation between approximate and exact jackknife:  4.7273335839204124e-07\n"
     ]
    },
    {
     "data": {
      "text/plain": [
       "Text(0, 0.5, 'IJ')"
      ]
     },
     "execution_count": 4,
     "metadata": {},
     "output_type": "execute_result"
    },
    {
     "data": {
      "image/png": "[encoded data removed]",
      "text/plain": [
       "<Figure size 360x360 with 1 Axes>"
      ]
     },
     "metadata": {
      "needs_background": "light"
     },
     "output_type": "display_data"
    }
   ],
   "source": [
    "# compare approximate with exact jackknife for a few points\n",
    "weights = np.ones_like(weights_one)\n",
    "y_pred_exact = np.zeros([20, 1])\n",
    "y_pred_approx = np.zeros([20, 1])\n",
    "y_pred_mle = np.zeros([20, 1])\n",
    "for i in np.arange(20):\n",
    "    weights[0, i] = 0\n",
    "    params = lr.fit(weights, params_one, inputs, targets, verbose=False)\n",
    "    lr.set_parameters(params)\n",
    "    y_pred_exact[i] = lr.predict(inputs[i])\n",
    "    ij_params = ij.ij(weights.squeeze())\n",
    "    lr.set_parameters(ij_params)\n",
    "    y_pred_approx[i] = lr.predict(inputs[i])\n",
    "    lr.set_parameters(params_one)\n",
    "    y_pred_mle[i] = lr.predict(inputs[i])\n",
    "    weights[0, i] = 1\n",
    "\n",
    "print(\"Mean Absolute Deviation between approximate and exact jackknife: \",\n",
    "      np.mean(np.abs(y_pred_approx - y_pred_exact)))\n",
    "assert np.allclose(y_pred_exact, y_pred_approx, atol=1e-6, rtol=1e-3)\n",
    "\n",
    "plt.figure(figsize=(5,5))\n",
    "plt.plot(y_pred_exact, y_pred_approx, 'ro', ms=10)\n",
    "plt.plot([0, 1], [0, 1], 'k--')\n",
    "plt.xlabel(\"Exact\", fontsize=20)\n",
    "plt.ylabel(\"IJ\", fontsize=20)"
   ]
  },
  {
   "cell_type": "markdown",
   "metadata": {},
   "source": [
    "As we can see, there is strong agreement between exact and approximate (IJ) jackknife."
   ]
  },
  {
   "cell_type": "markdown",
   "metadata": {},
   "source": [
    "## Predictive uncertainties\n",
    "Next, we will use IJ to get predictive uncertainties."
   ]
  },
  {
   "cell_type": "code",
   "execution_count": 5,
   "metadata": {
    "pycharm": {
     "name": "#%%\n"
    }
   },
   "outputs": [],
   "source": [
    "y_pred, y_lb, y_ub = ij.predict(test_inputs, lr)"
   ]
  },
  {
   "cell_type": "code",
   "execution_count": 6,
   "metadata": {
    "pycharm": {
     "name": "#%%\n"
    }
   },
   "outputs": [
    {
     "name": "stdout",
     "output_type": "stream",
     "text": [
      "[0.516], [0.517], [0.519]\n",
      "[0.54], [0.541], [0.543]\n",
      "[0.382], [0.383], [0.385]\n",
      "[0.487], [0.488], [0.489]\n",
      "[0.496], [0.497], [0.499]\n",
      "[0.436], [0.437], [0.438]\n",
      "[0.461], [0.463], [0.464]\n",
      "[0.62], [0.621], [0.622]\n",
      "[0.514], [0.515], [0.516]\n",
      "[0.646], [0.647], [0.648]\n",
      "[0.695], [0.696], [0.698]\n",
      "[0.538], [0.539], [0.54]\n",
      "[0.402], [0.403], [0.404]\n",
      "[0.605], [0.606], [0.607]\n",
      "[0.535], [0.536], [0.537]\n",
      "[0.593], [0.594], [0.595]\n",
      "[0.49], [0.491], [0.492]\n",
      "[0.516], [0.518], [0.519]\n",
      "[0.418], [0.419], [0.421]\n",
      "[0.58], [0.581], [0.582]\n"
     ]
    }
   ],
   "source": [
    "np.set_printoptions(precision=3)\n",
    "# let's look at some of the predictions; we will visualize 20 data points with the  largest uncertainties.\n",
    "pi = y_ub - y_lb\n",
    "idx = np.argsort(-pi.ravel())\n",
    "# plt.plot(y_pred[:20], np.arange(20), 'ro', ms=1)\n",
    "for i, v in enumerate(idx[:20]):\n",
    "    print (\"{0}, {1}, {2}\".format(y_lb[v], y_pred[v], y_ub[v]))\n",
    "    "
   ]
  }
 ],
 "metadata": {
  "kernelspec": {
   "display_name": "Python 3",
   "language": "python",
   "name": "python3"
  },
  "language_info": {
   "codemirror_mode": {
    "name": "ipython",
    "version": 3
   },
   "file_extension": ".py",
   "mimetype": "text/x-python",
   "name": "python",
   "nbconvert_exporter": "python",
   "pygments_lexer": "ipython3",
   "version": "3.8.3"
  }
 },
 "nbformat": 4,
 "nbformat_minor": 1
}

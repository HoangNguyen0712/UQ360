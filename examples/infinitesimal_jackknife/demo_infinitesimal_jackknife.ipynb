{
 "cells": [
  {
   "cell_type": "markdown",
   "metadata": {},
   "source": [
    "UQ360/examples/infinitesimal_jackknife/demo_infinitesimal_jackknife.ipynb"
   ]
  },
  {
   "cell_type": "code",
   "execution_count": 1,
   "metadata": {},
   "outputs": [],
   "source": [
    "import sys\n",
    "sys.path.append(\"../../\")"
   ]
  },
  {
   "cell_type": "code",
   "execution_count": 2,
   "metadata": {
    "pycharm": {
     "name": "#%%\n"
    }
   },
   "outputs": [],
   "source": [
    "import numpy as np\n",
    "import matplotlib.pyplot as plt\n",
    "from uq360.algorithms.infinitesimal_jackknife.infinitesimal_jackknife import InfinitesimalJackknife\n",
    "from uq360.utils.logistic_regression import LogisticRegression, get_num_train, logistic_predictions"
   ]
  },
  {
   "cell_type": "markdown",
   "metadata": {
    "pycharm": {
     "name": "#%% md\n"
    }
   },
   "source": [
    "In this notebook, we will illustrate infinitesimal jackknife (IJ) for logistic regression. "
   ]
  },
  {
   "cell_type": "markdown",
   "metadata": {},
   "source": [
    "## Fit the model to simulated data"
   ]
  },
  {
   "cell_type": "markdown",
   "metadata": {},
   "source": [
    "#### Generate synthetic data\n",
    "$x \\sim N(0, \\sigma^2I_D)$\n",
    "\n",
    "$w \\sim N (0, I)$\n",
    "\n",
    "$y \\sim Bernoulli(p = sigmoid(w^Tx))$ \n",
    "\n",
    "and instantiate the logistic regression model."
   ]
  },
  {
   "cell_type": "code",
   "execution_count": 3,
   "metadata": {
    "pycharm": {
     "name": "#%%\n"
    }
   },
   "outputs": [],
   "source": [
    "lr = LogisticRegression()\n",
    "# generate simulated data\n",
    "inputs, targets, test_inputs, test_targets = lr.synthetic_lr_data(N=1000, D=10)"
   ]
  },
  {
   "cell_type": "markdown",
   "metadata": {},
   "source": [
    "#### Fit by maximizing the likelihood"
   ]
  },
  {
   "cell_type": "code",
   "execution_count": 6,
   "metadata": {},
   "outputs": [
    {
     "name": "stdout",
     "output_type": "stream",
     "text": [
      "Initial loss: 657.0034124381663\n",
      "Optimization terminated successfully.\n",
      "         Current function value: 218.806658\n",
      "         Iterations: 31\n",
      "         Function evaluations: 42\n",
      "         Gradient evaluations: 42\n",
      "Trained loss: 218.80665769320925\n",
      "Maximum Likelihood Solution's Test Accuracy 0.783\n"
     ]
    }
   ],
   "source": [
    "# Standard MLE model fit\n",
    "init_params = 1e-1 * np.random.randn(inputs.shape[1])\n",
    "weights_one = np.ones([1, get_num_train(inputs)])\n",
    "params_one = lr.fit(weights_one, init_params, inputs, targets)\n",
    "print(\"Maximum Likelihood Solution's Test Accuracy {0:0.3f}\".format(\n",
    "lr.get_test_acc(params_one, test_targets, test_inputs)))"
   ]
  },
  {
   "cell_type": "markdown",
   "metadata": {},
   "source": [
    "## Infinitesimal Jackknife Approximations"
   ]
  },
  {
   "cell_type": "markdown",
   "metadata": {},
   "source": [
    "Now that we have fit the model and precomputed things we will precompute stuff needed the IJ approximation -- the Hessian and the per datapoint loss gradients. Remember we need to do this only once.  "
   ]
  },
  {
   "cell_type": "code",
   "execution_count": 5,
   "metadata": {},
   "outputs": [],
   "source": [
    "# Precompute some stuff needed for IJ approximation\n",
    "H = lr.compute_hessian(params_one, weights_one, inputs, targets)\n",
    "J = lr.compute_jacobian(params_one, weights_one, inputs, targets)\n",
    "config = {\"alpha\": 0.01, \"resampling_strategy\": 'jackknife'}\n",
    "ij = InfinitesimalJackknife(params_one, J, H, config)"
   ]
  },
  {
   "cell_type": "markdown",
   "metadata": {},
   "source": [
    "#### Let's approximate the effect of leaving out datapoint 957 on the parameters of the logistic regression model"
   ]
  },
  {
   "cell_type": "code",
   "execution_count": 7,
   "metadata": {},
   "outputs": [
    {
     "name": "stdout",
     "output_type": "stream",
     "text": [
      "Probability of class 1 as approximated by IJ: 0.999189\n"
     ]
    }
   ],
   "source": [
    "# Set the 957th coordinate in the weight vector to zero\n",
    "weights = np.ones_like(weights_one)\n",
    "weights[0, 957] = 0\n",
    "\n",
    "# approximate jackknife\n",
    "ij_params = ij.ij(weights.squeeze())\n",
    "\n",
    "# make predictions with this approximated parameter for the left out datum\n",
    "lr.set_parameters(ij_params)\n",
    "y_pred_approx = lr.predict(inputs[957])\n",
    "\n",
    "print (\"Probability of class 1 as approximated by IJ: {0:f}\".format(y_pred_approx.squeeze()))"
   ]
  },
  {
   "cell_type": "markdown",
   "metadata": {
    "pycharm": {
     "name": "#%% md\n"
    }
   },
   "source": [
    "## Is IJ an accurate approximation to Exact Jackknife?"
   ]
  },
  {
   "cell_type": "markdown",
   "metadata": {},
   "source": [
    "First we will verify that infinitesimal jackknife is a good approximation to exact jackknife.\n",
    "We will do so by running exact jackknife on a subset of the data and comparing with IJ."
   ]
  },
  {
   "cell_type": "code",
   "execution_count": 13,
   "metadata": {
    "pycharm": {
     "name": "#%%\n"
    }
   },
   "outputs": [
    {
     "name": "stdout",
     "output_type": "stream",
     "text": [
      "Mean Absolute Deviation between approximate and exact jackknife:  7.38416630749389e-05\n"
     ]
    },
    {
     "data": {
      "text/plain": [
       "Text(0, 0.5, 'IJ')"
      ]
     },
     "execution_count": 13,
     "metadata": {},
     "output_type": "execute_result"
    },
    {
     "data": {
      "image/png": "[encoded data removed]",
      "text/plain": [
       "<Figure size 360x360 with 1 Axes>"
      ]
     },
     "metadata": {
      "needs_background": "light"
     },
     "output_type": "display_data"
    }
   ],
   "source": [
    "# compare approximate with exact jackknife for a few points\n",
    "weights = np.ones_like(weights_one)\n",
    "y_pred_exact = np.zeros([20, 1])\n",
    "y_pred_approx = np.zeros([20, 1])\n",
    "y_pred_mle = np.zeros([20, 1])\n",
    "for i in np.arange(20):\n",
    "    weights[0, i] = 0\n",
    "    params = lr.fit(weights, params_one, inputs, targets, verbose=False)\n",
    "    lr.set_parameters(params)\n",
    "    y_pred_exact[i] = lr.predict(inputs[i])\n",
    "    ij_params = ij.ij(weights.squeeze())\n",
    "    lr.set_parameters(ij_params)\n",
    "    y_pred_approx[i] = lr.predict(inputs[i])\n",
    "    lr.set_parameters(params_one)\n",
    "    y_pred_mle[i] = lr.predict(inputs[i])\n",
    "    weights[0, i] = 1\n",
    "\n",
    "print(\"Mean Absolute Deviation between approximate and exact jackknife: \",\n",
    "      np.mean(np.abs(y_pred_approx - y_pred_exact)))\n",
    "\n",
    "plt.figure(figsize=(5,5))\n",
    "plt.plot(y_pred_exact, y_pred_approx, 'ro', ms=10)\n",
    "plt.plot([0, 1], [0, 1], 'k--')\n",
    "plt.xlabel(\"Exact\", fontsize=20)\n",
    "plt.ylabel(\"IJ\", fontsize=20)"
   ]
  },
  {
   "cell_type": "markdown",
   "metadata": {},
   "source": [
    "As we can see, there is strong agreement between exact and approximate (IJ) jackknife."
   ]
  },
  {
   "cell_type": "markdown",
   "metadata": {},
   "source": [
    "## Predictive uncertainties\n",
    "Next, we will use IJ to get predictive uncertainties."
   ]
  },
  {
   "cell_type": "code",
   "execution_count": 14,
   "metadata": {
    "pycharm": {
     "name": "#%%\n"
    }
   },
   "outputs": [],
   "source": [
    "y_pred, y_lb, y_ub = ij.predict(test_inputs, lr)"
   ]
  },
  {
   "cell_type": "code",
   "execution_count": 15,
   "metadata": {
    "pycharm": {
     "name": "#%%\n"
    }
   },
   "outputs": [
    {
     "name": "stdout",
     "output_type": "stream",
     "text": [
      "[0.551], [0.566], [0.581]\n",
      "[0.592], [0.604], [0.619]\n",
      "[0.716], [0.727], [0.742]\n",
      "[0.337], [0.35], [0.362]\n",
      "[0.331], [0.345], [0.355]\n",
      "[0.283], [0.295], [0.306]\n",
      "[0.433], [0.445], [0.456]\n",
      "[0.567], [0.577], [0.589]\n",
      "[0.512], [0.523], [0.534]\n",
      "[0.339], [0.351], [0.361]\n",
      "[0.416], [0.427], [0.438]\n",
      "[0.445], [0.456], [0.466]\n",
      "[0.614], [0.625], [0.635]\n",
      "[0.698], [0.707], [0.719]\n",
      "[0.733], [0.742], [0.753]\n",
      "[0.409], [0.419], [0.429]\n",
      "[0.365], [0.376], [0.385]\n",
      "[0.679], [0.688], [0.698]\n",
      "[0.297], [0.308], [0.317]\n",
      "[0.184], [0.194], [0.203]\n"
     ]
    }
   ],
   "source": [
    "np.set_printoptions(precision=3)\n",
    "# let's look at some of the predictions; we will visualize 20 data points with the  largest uncertainties.\n",
    "pi = y_ub - y_lb\n",
    "idx = np.argsort(-pi.ravel())\n",
    "# plt.plot(y_pred[:20], np.arange(20), 'ro', ms=1)\n",
    "for i, v in enumerate(idx[:20]):\n",
    "    print (\"{0}, {1}, {2}\".format(y_lb[v], y_pred[v], y_ub[v]))\n",
    "    "
   ]
  },
  {
   "cell_type": "markdown",
   "metadata": {},
   "source": [
    "# Delete-d jackknife\n",
    "Instead of leaving one data point out, we could ask what happens when we leave out d datapoints"
   ]
  },
  {
   "cell_type": "code",
   "execution_count": 16,
   "metadata": {},
   "outputs": [
    {
     "data": {
      "text/plain": [
       "array([977, 125, 557, 805, 408, 184, 940, 659, 544, 560, 283, 168, 991,\n",
       "       414, 956, 625,  41, 585, 237,  87])"
      ]
     },
     "execution_count": 16,
     "metadata": {},
     "output_type": "execute_result"
    }
   ],
   "source": [
    "# Approximate the effect of holding out d = 20 datapoints at one go.\n",
    "d = 20\n",
    "idx = np.random.choice(np.arange(1000), d)\n",
    "idx"
   ]
  },
  {
   "cell_type": "code",
   "execution_count": 17,
   "metadata": {},
   "outputs": [],
   "source": [
    "weights = np.ones_like(weights_one)\n",
    "weights[0, idx] = 0"
   ]
  },
  {
   "cell_type": "code",
   "execution_count": 18,
   "metadata": {},
   "outputs": [
    {
     "name": "stdout",
     "output_type": "stream",
     "text": [
      "Probability of class 1 as approximated by IJ: [0.999 0.879 0.501 0.004 0.305 0.985 0.007 0.569 0.523 1.    1.    1.\n",
      " 0.998 0.316 0.077 0.245 0.561 0.221 0.022 0.27 ]\n"
     ]
    }
   ],
   "source": [
    "# approximate jackknife\n",
    "ij_params = ij.ij(weights.squeeze())\n",
    "\n",
    "# make predictions with this approximated parameter for the left out datum\n",
    "lr.set_parameters(ij_params)\n",
    "y_pred_approx = lr.predict(inputs[idx])\n",
    "\n",
    "print (\"Probability of class 1 as approximated by IJ: {}\".format(y_pred_approx.squeeze()))"
   ]
  },
  {
   "cell_type": "code",
   "execution_count": 19,
   "metadata": {},
   "outputs": [],
   "source": [
    "params = lr.fit(weights, params_one, inputs, targets, verbose=False)\n",
    "lr.set_parameters(params)\n",
    "y_pred_exact = lr.predict(inputs[idx])"
   ]
  },
  {
   "cell_type": "code",
   "execution_count": 20,
   "metadata": {},
   "outputs": [
    {
     "data": {
      "text/plain": [
       "Text(0, 0.5, 'IJ')"
      ]
     },
     "execution_count": 20,
     "metadata": {},
     "output_type": "execute_result"
    },
    {
     "data": {
      "image/png": "[encoded data removed]",
      "text/plain": [
       "<Figure size 360x360 with 1 Axes>"
      ]
     },
     "metadata": {
      "needs_background": "light"
     },
     "output_type": "display_data"
    }
   ],
   "source": [
    "plt.figure(figsize=(5,5))\n",
    "plt.plot(y_pred_exact, y_pred_approx, 'ro', ms=10)\n",
    "plt.plot([0, 1], [0, 1], 'k--')\n",
    "plt.xlabel(\"Exact\", fontsize=20)\n",
    "plt.ylabel(\"IJ\", fontsize=20)"
   ]
  },
  {
   "cell_type": "markdown",
   "metadata": {},
   "source": [
    "## Other weighting\n",
    "\n",
    "schemes can be used just as easily. Some might not have a clear interpretation though!\n"
   ]
  },
  {
   "cell_type": "code",
   "execution_count": 21,
   "metadata": {},
   "outputs": [],
   "source": [
    "weights = np.ones_like(weights_one)\n",
    "weights[0, 1] = 0.5 # downweight\n",
    "weights[0, 2] = 10. # upweight\n",
    "weights[0, 3] = -1. # negative weights\n",
    "ij_params = ij.ij(weights.squeeze())"
   ]
  },
  {
   "cell_type": "markdown",
   "metadata": {},
   "source": [
    "# Structured Models --- Hidden Markov Models, Markov Random Fields\n",
    "You can drop data from within the structure --- time points in a HMM, sites in a MRF. Needs a weighted version of  belief propagation. \n",
    "\n",
    "See demo_structured_infinitesimal_jackknife.ipynb"
   ]
  }
 ],
 "metadata": {
  "kernelspec": {
   "display_name": "Python 3",
   "language": "python",
   "name": "python3"
  },
  "language_info": {
   "codemirror_mode": {
    "name": "ipython",
    "version": 3
   },
   "file_extension": ".py",
   "mimetype": "text/x-python",
   "name": "python",
   "nbconvert_exporter": "python",
   "pygments_lexer": "ipython3",
   "version": "3.8.3"
  }
 },
 "nbformat": 4,
 "nbformat_minor": 1
}

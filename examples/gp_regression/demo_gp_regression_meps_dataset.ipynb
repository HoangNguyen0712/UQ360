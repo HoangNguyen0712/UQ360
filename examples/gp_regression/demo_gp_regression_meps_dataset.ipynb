{
 "cells": [
  {
   "cell_type": "code",
   "execution_count": 1,
   "metadata": {},
   "outputs": [],
   "source": [
    "%matplotlib inline"
   ]
  },
  {
   "cell_type": "code",
   "execution_count": 2,
   "metadata": {
    "scrolled": true
   },
   "outputs": [],
   "source": [
    "import sys\n",
    "sys.path.append(\"../../\")"
   ]
  },
  {
   "cell_type": "code",
   "execution_count": 3,
   "metadata": {},
   "outputs": [],
   "source": [
    "import numpy as np\n",
    "import torch\n",
    "import pandas as pd\n",
    "from copy import deepcopy\n",
    "from sklearn.preprocessing import StandardScaler, MinMaxScaler\n",
    "from uq360.algorithms.homoscedastic_gaussian_process_regression import HomoscedasticGPRegression\n",
    "from uq360.algorithms.ucc_recalibration import UCCRecalibration\n",
    "from uq360.metrics import picp, mpiw, compute_regression_metrics"
   ]
  },
  {
   "cell_type": "code",
   "execution_count": 4,
   "metadata": {},
   "outputs": [],
   "source": [
    "from uq360.datasets import MEPSDataset"
   ]
  },
  {
   "cell_type": "code",
   "execution_count": null,
   "metadata": {},
   "outputs": [],
   "source": [
    "data = MEPSDataset().data()"
   ]
  },
  {
   "cell_type": "code",
   "execution_count": null,
   "metadata": {},
   "outputs": [],
   "source": [
    "categorical_features = ['REGION','SEX','MARRY',\n",
    "                                 'FTSTU','ACTDTY','HONRDC','RTHLTH','MNHLTH','HIBPDX','CHDDX','ANGIDX',\n",
    "                                 'MIDX','OHRTDX','STRKDX','EMPHDX','CHBRON','CHOLDX','CANCERDX','DIABDX',\n",
    "                                 'JTPAIN','ARTHDX','ARTHTYPE','ASTHDX','ADHDADDX','PREGNT','WLKLIM',\n",
    "                                 'ACTLIM','SOCLIM','COGLIM','DFHEAR42','DFSEE42','ADSMOK42',\n",
    "                                 'PHQ242','EMPST','POVCAT','INSCOV']"
   ]
  },
  {
   "cell_type": "code",
   "execution_count": null,
   "metadata": {},
   "outputs": [],
   "source": [
    "data = pd.get_dummies(data, columns=categorical_features, prefix_sep='=')"
   ]
  },
  {
   "cell_type": "code",
   "execution_count": null,
   "metadata": {},
   "outputs": [],
   "source": [
    "data = data[data[\"UTILIZATION\"] >=0]"
   ]
  },
  {
   "cell_type": "code",
   "execution_count": null,
   "metadata": {},
   "outputs": [],
   "source": [
    "# Reset index to consecutive integers\n",
    "data.reset_index(drop=True, inplace=True)\n",
    "# Drop panel number (not meant to be predictive) and sample weights\n",
    "data.drop(columns = ['PERWT15F'], inplace=True)\n",
    "data"
   ]
  },
  {
   "cell_type": "code",
   "execution_count": null,
   "metadata": {},
   "outputs": [],
   "source": [
    "def race(row):\n",
    "    if row['RACE'] == 'White':\n",
    "        return 1.0\n",
    "    return 0.0"
   ]
  },
  {
   "cell_type": "code",
   "execution_count": null,
   "metadata": {},
   "outputs": [],
   "source": [
    "data[\"RACE\"] = data.apply(lambda row: race(row), axis=1)"
   ]
  },
  {
   "cell_type": "code",
   "execution_count": null,
   "metadata": {},
   "outputs": [],
   "source": [
    "data = data.dropna()"
   ]
  },
  {
   "cell_type": "code",
   "execution_count": null,
   "metadata": {},
   "outputs": [],
   "source": [
    "# Separate target variable\n",
    "y = np.log( 1.0 + data.pop('UTILIZATION'))\n",
    "a = data['RACE']\n",
    "# Split data into training and test sets\n",
    "from sklearn.model_selection import train_test_split\n",
    "df_train, df_test, y_train, y_test, a_train, a_test = train_test_split(data, y, a, random_state=0)\n",
    "df_train, df_val, y_train, y_val, a_train, a_val = train_test_split(df_train, y_train, a_train, random_state=0)"
   ]
  },
  {
   "cell_type": "code",
   "execution_count": null,
   "metadata": {},
   "outputs": [],
   "source": [
    "#kwargs = {'cumulative': False}\n",
    "#sns.distplot(y, hist_kws=kwargs, kde_kws=kwargs)"
   ]
  },
  {
   "cell_type": "code",
   "execution_count": null,
   "metadata": {},
   "outputs": [],
   "source": [
    "normalizer_y = StandardScaler()\n",
    "y_train = normalizer_y.fit_transform(y_train.values.reshape(-1, 1))\n",
    "y_test = normalizer_y.transform(y_test.values.reshape(-1, 1))\n",
    "normalizer_X = MinMaxScaler()\n",
    "X_train = normalizer_X.fit_transform(df_train)\n",
    "X_test = normalizer_X.transform(df_test)"
   ]
  },
  {
   "cell_type": "code",
   "execution_count": null,
   "metadata": {},
   "outputs": [],
   "source": [
    "#kwargs = {'cumulative': False}\n",
    "#sns.distplot(y_test, hist_kws=kwargs, kde_kws=kwargs)"
   ]
  },
  {
   "cell_type": "code",
   "execution_count": null,
   "metadata": {},
   "outputs": [],
   "source": [
    "def create_res_df(method_name, y_test, y_mean, y_lower, y_upper):\n",
    "    results = {\"Overall\": compute_regression_metrics(y_test, y_mean, y_lower, y_upper)}\n",
    "    results[\"White\"] = compute_regression_metrics(y_test[a_test==1.0], y_mean[a_test==1.0], y_lower[a_test==1.0], y_upper[a_test==1.0])\n",
    "    results[\"Non-white\"] = compute_regression_metrics(y_test[a_test==0.0], y_mean[a_test==0.0], y_lower[a_test==0.0], y_upper[a_test==0.0])\n",
    "\n",
    "    total = [method_name,\n",
    "             \"Overall\",\n",
    "             results[\"Overall\"][\"rmse\"],\n",
    "             results[\"Overall\"][\"r2\"],\n",
    "             results[\"Overall\"][\"picp\"],\n",
    "             results[\"Overall\"][\"mpiw\"],\n",
    "             100*results[\"Overall\"][\"auucc_gain\"]]\n",
    "    white = [method_name,\n",
    "             \"White\",\n",
    "             results[\"White\"][\"rmse\"],\n",
    "             results[\"White\"][\"r2\"],\n",
    "             results[\"White\"][\"picp\"],\n",
    "             results[\"White\"][\"mpiw\"],\n",
    "             100*results[\"White\"][\"auucc_gain\"]]\n",
    "    nonwhite = [method_name,\n",
    "             \"Non-white\",\n",
    "             results[\"Non-white\"][\"rmse\"],\n",
    "             results[\"Non-white\"][\"r2\"],\n",
    "             results[\"Non-white\"][\"picp\"],\n",
    "             results[\"Non-white\"][\"mpiw\"],\n",
    "             100*results[\"Non-white\"][\"auucc_gain\"]]\n",
    "    res = pd.DataFrame([total, white, nonwhite], columns=['Method', 'Group', 'rmse', 'r2', 'Avg. Coverage', 'Avg. Width', '% AUUCC Gain'])\n",
    "    return res"
   ]
  },
  {
   "cell_type": "code",
   "execution_count": null,
   "metadata": {},
   "outputs": [],
   "source": [
    "all_results = pd.DataFrame(columns=['Method', 'Group', 'rmse', 'r2', 'Avg. Coverage', 'Avg. Width', '% AUUCC Gain'])"
   ]
  },
  {
   "cell_type": "markdown",
   "metadata": {},
   "source": [
    "# Train GP Regression"
   ]
  },
  {
   "cell_type": "code",
   "execution_count": null,
   "metadata": {},
   "outputs": [],
   "source": [
    "gp_model = HomoscedasticGPRegression()"
   ]
  },
  {
   "cell_type": "code",
   "execution_count": null,
   "metadata": {},
   "outputs": [],
   "source": [
    "ids = np.random.randint(X_train.shape[0], size=1000)\n",
    "gp_model = gp_model.fit(X_train[ids], y_train[ids])"
   ]
  },
  {
   "cell_type": "code",
   "execution_count": null,
   "metadata": {},
   "outputs": [],
   "source": [
    "gp_y_test_mean, gp_y_test_lower, gp_y_test_upper = gp_model.predict(X_test)[:3]"
   ]
  },
  {
   "cell_type": "code",
   "execution_count": null,
   "metadata": {},
   "outputs": [],
   "source": [
    "gp_res = create_res_df(\"GP\", y_test.squeeze(), gp_y_test_mean, gp_y_test_lower, gp_y_test_upper)"
   ]
  },
  {
   "cell_type": "code",
   "execution_count": null,
   "metadata": {},
   "outputs": [],
   "source": [
    "gp_res"
   ]
  },
  {
   "cell_type": "markdown",
   "metadata": {},
   "source": [
    "# Post-hoc calibration using a held out set"
   ]
  },
  {
   "cell_type": "code",
   "execution_count": null,
   "metadata": {},
   "outputs": [],
   "source": [
    "# Let us now train UCCRecalibration models to calibrate BUQ model on white group separately to achieve equalized \n",
    "# coverage. We use the the held out calibration to train these models."
   ]
  },
  {
   "cell_type": "code",
   "execution_count": null,
   "metadata": {},
   "outputs": [],
   "source": [
    "y_val = normalizer_y.transform(y_val.values.reshape(-1, 1))\n",
    "X_val = normalizer_X.transform(df_val)"
   ]
  },
  {
   "cell_type": "code",
   "execution_count": null,
   "metadata": {},
   "outputs": [],
   "source": [
    "calib_gp_for_white = UCCRecalibration(base_model=gp_model).fit(X_val[a_val==1.0], y_val[a_val==1.0])\n",
    "calib_gp_y_test_mean_white, calib_gp_y_test_lower_white, calib_gp_y_test_upper_white = calib_gp_for_white.predict(X_test[a_test==1.0], missrate=0.03)[:3]\n",
    "\n",
    "res_calib_gp_white = compute_regression_metrics(y_test[a_test==1.0].squeeze(), calib_gp_y_test_mean_white, calib_gp_y_test_lower_white, calib_gp_y_test_upper_white)"
   ]
  },
  {
   "cell_type": "code",
   "execution_count": null,
   "metadata": {},
   "outputs": [],
   "source": [
    "gp_res.append(pd.Series([\"GP\",\n",
    "             \"Calib White\",\n",
    "             res_calib_gp_white[\"rmse\"],\n",
    "             res_calib_gp_white[\"r2\"],\n",
    "             res_calib_gp_white[\"picp\"],\n",
    "             res_calib_gp_white[\"mpiw\"],\n",
    "             100*res_calib_gp_white[\"auucc_gain\"]], index = gp_res.columns), ignore_index=True)"
   ]
  },
  {
   "cell_type": "code",
   "execution_count": null,
   "metadata": {},
   "outputs": [],
   "source": []
  }
 ],
 "metadata": {
  "kernelspec": {
   "display_name": "Python 3",
   "language": "python",
   "name": "python3"
  },
  "language_info": {
   "codemirror_mode": {
    "name": "ipython",
    "version": 3
   },
   "file_extension": ".py",
   "mimetype": "text/x-python",
   "name": "python",
   "nbconvert_exporter": "python",
   "pygments_lexer": "ipython3",
   "version": "3.7.10"
  }
 },
 "nbformat": 4,
 "nbformat_minor": 4
}

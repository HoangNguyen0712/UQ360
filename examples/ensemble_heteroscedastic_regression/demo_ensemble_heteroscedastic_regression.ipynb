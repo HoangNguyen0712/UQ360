{
 "cells": [
  {
   "cell_type": "markdown",
   "metadata": {},
   "source": [
    "# Ensemble Heteroscedastic Regression Demo"
   ]
  },
  {
   "cell_type": "markdown",
   "metadata": {},
   "source": [
    "#### Import Statements"
   ]
  },
  {
   "cell_type": "code",
   "execution_count": 1,
   "metadata": {},
   "outputs": [],
   "source": [
    "import sys\n",
    "sys.path.append(\"../../\")"
   ]
  },
  {
   "cell_type": "code",
   "execution_count": 2,
   "metadata": {},
   "outputs": [],
   "source": [
    "%matplotlib inline"
   ]
  },
  {
   "cell_type": "code",
   "execution_count": 3,
   "metadata": {},
   "outputs": [],
   "source": [
    "import matplotlib.pyplot as plt"
   ]
  },
  {
   "cell_type": "code",
   "execution_count": 4,
   "metadata": {},
   "outputs": [],
   "source": [
    "from uq360.algorithms.ensemble_heteroscedastic_regression import EnsembleHeteroscedasticRegression\n",
    "from uq360.algorithms.heteroscedastic_regression import HeteroscedasticRegression\n",
    "from uq360.metrics import picp, mpiw, compute_regression_metrics\n",
    "from uq360.metrics import UncertaintyCharacteristicsCurve as ucc"
   ]
  },
  {
   "cell_type": "code",
   "execution_count": 5,
   "metadata": {},
   "outputs": [],
   "source": [
    "from sklearn import datasets\n",
    "from sklearn.model_selection import train_test_split\n",
    "from sklearn.metrics import mean_squared_error\n",
    "from sklearn.preprocessing import StandardScaler\n",
    "import pandas as pd\n",
    "import numpy as np\n",
    "import torch"
   ]
  },
  {
   "cell_type": "markdown",
   "metadata": {},
   "source": [
    "#### Load Boston Housing Prices Dataset"
   ]
  },
  {
   "cell_type": "code",
   "execution_count": 6,
   "metadata": {},
   "outputs": [],
   "source": [
    "house_prices_dataset = datasets.load_boston()\n",
    "house_prices_df = pd.DataFrame(house_prices_dataset['data'])\n",
    "house_prices_df.columns = house_prices_dataset['feature_names']\n",
    "\n",
    "all_features = ['RM','CRIM','PTRATIO', 'DIS']\n",
    "X = house_prices_df[all_features].values\n",
    "y = house_prices_dataset['target']"
   ]
  },
  {
   "cell_type": "markdown",
   "metadata": {},
   "source": [
    "#### Train test split of the dataset"
   ]
  },
  {
   "cell_type": "code",
   "execution_count": 7,
   "metadata": {},
   "outputs": [],
   "source": [
    "X_train, X_test, y_train, y_test = train_test_split(X, y, test_size=0.3, random_state=0)"
   ]
  },
  {
   "cell_type": "code",
   "execution_count": 8,
   "metadata": {},
   "outputs": [
    {
     "data": {
      "text/plain": [
       "Text(0.5, 1.0, 'Training data')"
      ]
     },
     "execution_count": 8,
     "metadata": {},
     "output_type": "execute_result"
    },
    {
     "data": {
      "image/png": "[encoded data removed]",
      "text/plain": [
       "<Figure size 432x288 with 1 Axes>"
      ]
     },
     "metadata": {
      "needs_background": "light"
     },
     "output_type": "display_data"
    }
   ],
   "source": [
    "plt.scatter(X_train[:,0], y_train)\n",
    "plt.xlabel('#of rooms')\n",
    "plt.ylabel('house price')\n",
    "plt.title('Training data')"
   ]
  },
  {
   "cell_type": "code",
   "execution_count": 9,
   "metadata": {},
   "outputs": [],
   "source": [
    "scaler_y = StandardScaler()\n",
    "y_train = scaler_y.fit_transform(y_train.reshape(-1, 1))\n",
    "scaler_X = StandardScaler()\n",
    "X_train = scaler_X.fit_transform(X_train)\n",
    "X_test = scaler_X.transform(X_test)"
   ]
  },
  {
   "cell_type": "markdown",
   "metadata": {},
   "source": [
    "### Train Ensemble of Heteroscedastic Regressions"
   ]
  },
  {
   "cell_type": "code",
   "execution_count": 10,
   "metadata": {},
   "outputs": [],
   "source": [
    "y_train = y_train.reshape(-1, 1)\n",
    "y_test = y_test.reshape(-1, 1)\n",
    "\n",
    "# define config for Heteroscedastic Regression\n",
    "config_HR = {\"num_features\": X_train.shape[1], \"num_outputs\": y_train.shape[1], \"num_hidden\": 50, \"batch_size\": 32, \"num_epochs\": 50,\n",
    "                  \"lr\": 0.001}\n",
    "device = torch.device(\"cuda:0\" if torch.cuda.is_available() else \"cpu\")\n",
    "\n",
    "HR_kwargs = {\"model_type\":'mlp',\n",
    "                                   \"config\": config_HR,\n",
    "                                   \"device\": device}\n",
    "\n",
    "#define config for ensemble of Heteroscedastic Regression\n",
    "config = {\"num_models\": 5, \n",
    "          \"model_kwargs\":HR_kwargs, }\n",
    "\n",
    "uq_model = EnsembleHeteroscedasticRegression(model_type='ensembleheteroscedasticregression', \n",
    "                                             config=config, \n",
    "                                             device=device)"
   ]
  },
  {
   "cell_type": "code",
   "execution_count": 11,
   "metadata": {},
   "outputs": [
    {
     "name": "stdout",
     "output_type": "stream",
     "text": [
      "\n",
      "Training model 0\n",
      "\n",
      "Epoch: 0, loss = 1.459425965944926\n",
      "Epoch: 1, loss = 1.2974590311447778\n",
      "Epoch: 2, loss = 1.1947528372208278\n",
      "Epoch: 3, loss = 1.123661324381828\n",
      "Epoch: 4, loss = 1.070436492562294\n",
      "Epoch: 5, loss = 1.027777373790741\n",
      "Epoch: 6, loss = 0.9917417267958323\n",
      "Epoch: 7, loss = 0.9600538512070973\n",
      "Epoch: 8, loss = 0.9311446895202\n",
      "Epoch: 9, loss = 0.9038868645826975\n",
      "Epoch: 10, loss = 0.8776373863220216\n",
      "Epoch: 11, loss = 0.852043315768242\n",
      "Epoch: 12, loss = 0.82683128118515\n",
      "Epoch: 13, loss = 0.8017907192309699\n",
      "Epoch: 14, loss = 0.776911124587059\n",
      "Epoch: 15, loss = 0.7522002359231313\n",
      "Epoch: 16, loss = 0.728042721748352\n",
      "Epoch: 17, loss = 0.7043740202983221\n",
      "Epoch: 18, loss = 0.6817639420429867\n",
      "Epoch: 19, loss = 0.6601356491446495\n",
      "Epoch: 20, loss = 0.6401551167170207\n",
      "Epoch: 21, loss = 0.6218055884043375\n",
      "Epoch: 22, loss = 0.6054740746816\n",
      "Epoch: 23, loss = 0.590736210346222\n",
      "Epoch: 24, loss = 0.577766587336858\n",
      "Epoch: 25, loss = 0.5663900921742121\n",
      "Epoch: 26, loss = 0.5563266575336456\n",
      "Epoch: 27, loss = 0.5472660486896833\n",
      "Epoch: 28, loss = 0.5391053383549055\n",
      "Epoch: 29, loss = 0.5315107380350431\n",
      "Epoch: 30, loss = 0.5245703980326653\n",
      "Epoch: 31, loss = 0.5178951472043991\n",
      "Epoch: 32, loss = 0.5117233991622925\n",
      "Epoch: 33, loss = 0.5060414920250574\n",
      "Epoch: 34, loss = 0.5005507270495096\n",
      "Epoch: 35, loss = 0.4952728475133578\n",
      "Epoch: 36, loss = 0.4901792034506798\n",
      "Epoch: 37, loss = 0.48524660368760425\n",
      "Epoch: 38, loss = 0.48030299693346024\n",
      "Epoch: 39, loss = 0.47558893511692685\n",
      "Epoch: 40, loss = 0.471492275595665\n",
      "Epoch: 41, loss = 0.46731551115711534\n",
      "Epoch: 42, loss = 0.46336371451616293\n",
      "Epoch: 43, loss = 0.4591771562894185\n",
      "Epoch: 44, loss = 0.45520447691281635\n",
      "Epoch: 45, loss = 0.4514981520672639\n",
      "Epoch: 46, loss = 0.4478612927099069\n",
      "Epoch: 47, loss = 0.443877600133419\n",
      "Epoch: 48, loss = 0.44032202536861104\n",
      "Epoch: 49, loss = 0.43675287937124563\n",
      "\n",
      "Training model 1\n",
      "\n",
      "Epoch: 0, loss = 1.3922461469968161\n",
      "Epoch: 1, loss = 1.2596955299377441\n",
      "Epoch: 2, loss = 1.1690905491511028\n",
      "Epoch: 3, loss = 1.1015110413233438\n",
      "Epoch: 4, loss = 1.0477188676595688\n",
      "Epoch: 5, loss = 1.002597416440646\n",
      "Epoch: 6, loss = 0.9631237983703613\n",
      "Epoch: 7, loss = 0.9273099104563395\n",
      "Epoch: 8, loss = 0.8937771171331407\n",
      "Epoch: 9, loss = 0.8614128778378167\n",
      "Epoch: 10, loss = 0.8298585067192713\n",
      "Epoch: 11, loss = 0.798678124944369\n",
      "Epoch: 12, loss = 0.767591545979182\n",
      "Epoch: 13, loss = 0.7369264215230943\n",
      "Epoch: 14, loss = 0.7072292864322661\n",
      "Epoch: 15, loss = 0.679402602215608\n",
      "Epoch: 16, loss = 0.654103306432565\n",
      "Epoch: 17, loss = 0.6320192217826842\n",
      "Epoch: 18, loss = 0.61342354118824\n",
      "Epoch: 19, loss = 0.5980628704031309\n",
      "Epoch: 20, loss = 0.5851480960845947\n",
      "Epoch: 21, loss = 0.5739423384269078\n",
      "Epoch: 22, loss = 0.5641720965504647\n",
      "Epoch: 23, loss = 0.5549236511190733\n",
      "Epoch: 24, loss = 0.5462071746587752\n",
      "Epoch: 25, loss = 0.5378635103503863\n",
      "Epoch: 26, loss = 0.5302660266558329\n",
      "Epoch: 27, loss = 0.5229076420267422\n",
      "Epoch: 28, loss = 0.5162645230690638\n",
      "Epoch: 29, loss = 0.5098871166507404\n",
      "Epoch: 30, loss = 0.5033780684073765\n",
      "Epoch: 31, loss = 0.4971353660027186\n",
      "Epoch: 32, loss = 0.49102014179031056\n",
      "Epoch: 33, loss = 0.4851145495971043\n",
      "Epoch: 34, loss = 0.4795866981148719\n",
      "Epoch: 35, loss = 0.4741823089619478\n",
      "Epoch: 36, loss = 0.4688098033269247\n",
      "Epoch: 37, loss = 0.46360648423433304\n",
      "Epoch: 38, loss = 0.4586530762414138\n",
      "Epoch: 39, loss = 0.4536480767031511\n",
      "Epoch: 40, loss = 0.4489533963302771\n",
      "Epoch: 41, loss = 0.4441815664370855\n",
      "Epoch: 42, loss = 0.4397908846537273\n",
      "Epoch: 43, loss = 0.43538880099852884\n",
      "Epoch: 44, loss = 0.43119228134552634\n",
      "Epoch: 45, loss = 0.4275206079085668\n",
      "Epoch: 46, loss = 0.42259160429239273\n",
      "Epoch: 47, loss = 0.4893317942818005\n",
      "Epoch: 48, loss = 0.5524873125056425\n",
      "Epoch: 49, loss = 0.4425210493306319\n",
      "\n",
      "Training model 2\n",
      "\n",
      "Epoch: 0, loss = 1.3278434177239737\n",
      "Epoch: 1, loss = 1.238789404431979\n",
      "Epoch: 2, loss = 1.1772491186857224\n",
      "Epoch: 3, loss = 1.1278623392184575\n",
      "Epoch: 4, loss = 1.084568942586581\n",
      "Epoch: 5, loss = 1.0444449583689372\n",
      "Epoch: 6, loss = 1.0061522771914801\n",
      "Epoch: 7, loss = 0.9689363539218903\n",
      "Epoch: 8, loss = 0.9325167238712312\n",
      "Epoch: 9, loss = 0.8963273664315542\n",
      "Epoch: 10, loss = 0.8600370933612188\n",
      "Epoch: 11, loss = 0.8236811657746633\n",
      "Epoch: 12, loss = 0.7873370697100959\n",
      "Epoch: 13, loss = 0.7512826025485994\n",
      "Epoch: 14, loss = 0.7165682514508566\n",
      "Epoch: 15, loss = 0.6846622427304586\n",
      "Epoch: 16, loss = 0.6568249563376108\n",
      "Epoch: 17, loss = 0.6343020995457966\n",
      "Epoch: 18, loss = 0.6159059132138888\n",
      "Epoch: 19, loss = 0.6006258899966874\n",
      "Epoch: 20, loss = 0.5870559612909951\n",
      "Epoch: 21, loss = 0.5747611994544666\n",
      "Epoch: 22, loss = 0.5634356091419855\n",
      "Epoch: 23, loss = 0.5526477719346682\n",
      "Epoch: 24, loss = 0.5429349367817242\n",
      "Epoch: 25, loss = 0.5338201547662417\n",
      "Epoch: 26, loss = 0.5271200935045879\n",
      "Epoch: 27, loss = 0.5241357857982318\n",
      "Epoch: 28, loss = 0.5335411404569944\n",
      "Epoch: 29, loss = 0.559286003311475\n",
      "Epoch: 30, loss = 0.5483831216891608\n",
      "Epoch: 31, loss = 0.50990995268027\n",
      "Epoch: 32, loss = 0.49419424434502923\n",
      "Epoch: 33, loss = 0.488176442682743\n",
      "Epoch: 34, loss = 0.48243577405810356\n",
      "Epoch: 35, loss = 0.47652534022927284\n",
      "Epoch: 36, loss = 0.47239890694618225\n",
      "Epoch: 37, loss = 0.46796507885058714\n",
      "Epoch: 38, loss = 0.46395835652947426\n",
      "Epoch: 39, loss = 0.4598600628475348\n",
      "Epoch: 40, loss = 0.45585419361790025\n",
      "Epoch: 41, loss = 0.45130591342846554\n",
      "Epoch: 42, loss = 0.44694073249896366\n",
      "Epoch: 43, loss = 0.4429003906746705\n",
      "Epoch: 44, loss = 0.43921868875622755\n",
      "Epoch: 45, loss = 0.43604414537549024\n",
      "Epoch: 46, loss = 0.4371031746268272\n",
      "Epoch: 47, loss = 0.4783757428328196\n",
      "Epoch: 48, loss = 0.5238680218656858\n",
      "Epoch: 49, loss = 0.47683953369657195\n",
      "\n",
      "Training model 3\n",
      "\n",
      "Epoch: 0, loss = 1.3529571841160457\n",
      "Epoch: 1, loss = 1.2356265932321548\n",
      "Epoch: 2, loss = 1.155227094888687\n",
      "Epoch: 3, loss = 1.0929226974646251\n",
      "Epoch: 4, loss = 1.0414386441310246\n",
      "Epoch: 5, loss = 0.9974718689918518\n",
      "Epoch: 6, loss = 0.9589815984169642\n",
      "Epoch: 7, loss = 0.9240361899137497\n",
      "Epoch: 8, loss = 0.891183207432429\n",
      "Epoch: 9, loss = 0.8598755995432534\n",
      "Epoch: 10, loss = 0.8298288186391194\n",
      "Epoch: 11, loss = 0.8007048765818278\n",
      "Epoch: 12, loss = 0.7724058230717977\n",
      "Epoch: 13, loss = 0.7448627402385075\n",
      "Epoch: 14, loss = 0.7186810274918874\n",
      "Epoch: 15, loss = 0.6939155186216036\n",
      "Epoch: 16, loss = 0.6708587259054184\n",
      "Epoch: 17, loss = 0.6493490387996037\n",
      "Epoch: 18, loss = 0.62999111165603\n",
      "Epoch: 19, loss = 0.6120904137690862\n",
      "Epoch: 20, loss = 0.5975037366151811\n",
      "Epoch: 21, loss = 0.5850068827470144\n",
      "Epoch: 22, loss = 0.5870728914936384\n",
      "Epoch: 23, loss = 0.6100796113411586\n",
      "Epoch: 24, loss = 0.6108613734443983\n",
      "Epoch: 25, loss = 0.558445858458678\n",
      "Epoch: 26, loss = 0.5376242498556772\n",
      "Epoch: 27, loss = 0.5274405926465988\n",
      "Epoch: 28, loss = 0.5159034083286921\n",
      "Epoch: 29, loss = 0.5088501224915186\n",
      "Epoch: 30, loss = 0.5008390843868256\n",
      "Epoch: 31, loss = 0.4946453546484311\n",
      "Epoch: 32, loss = 0.48753096784154576\n",
      "Epoch: 33, loss = 0.48225405067205435\n",
      "Epoch: 34, loss = 0.47584517796834314\n",
      "Epoch: 35, loss = 0.47935723513364786\n",
      "Epoch: 36, loss = 0.4865008133153121\n",
      "Epoch: 37, loss = 0.48087143525481224\n",
      "Epoch: 38, loss = 0.46405114481846493\n",
      "Epoch: 39, loss = 0.4565367996692658\n",
      "Epoch: 40, loss = 0.4494714637597402\n",
      "Epoch: 41, loss = 0.4454454729954401\n",
      "Epoch: 42, loss = 0.44160209844509757\n",
      "Epoch: 43, loss = 0.43733516956369084\n",
      "Epoch: 44, loss = 0.43378984679778415\n",
      "Epoch: 45, loss = 0.42978949844837194\n",
      "Epoch: 46, loss = 0.42640674486756325\n",
      "Epoch: 47, loss = 0.4225499331951142\n",
      "Epoch: 48, loss = 0.41968092073996865\n",
      "Epoch: 49, loss = 0.41587354491154355\n",
      "\n",
      "Training model 4\n",
      "\n",
      "Epoch: 0, loss = 1.422783484061559\n",
      "Epoch: 1, loss = 1.3289557198683422\n",
      "Epoch: 2, loss = 1.259637340903282\n",
      "Epoch: 3, loss = 1.2027983615795772\n",
      "Epoch: 4, loss = 1.1535203456878662\n",
      "Epoch: 5, loss = 1.1098044315973916\n",
      "Epoch: 6, loss = 1.0706793814897537\n",
      "Epoch: 7, loss = 1.0356728186209998\n",
      "Epoch: 8, loss = 1.0038485825061798\n",
      "Epoch: 9, loss = 0.9742681632439295\n",
      "Epoch: 10, loss = 0.94574869175752\n",
      "Epoch: 11, loss = 0.9175616304079692\n",
      "Epoch: 12, loss = 0.8888697524865469\n",
      "Epoch: 13, loss = 0.8593940635522206\n",
      "Epoch: 14, loss = 0.8290184984604517\n",
      "Epoch: 15, loss = 0.7978785336017609\n",
      "Epoch: 16, loss = 0.7661615908145905\n",
      "Epoch: 17, loss = 0.7342470735311508\n",
      "Epoch: 18, loss = 0.7029431412617365\n",
      "Epoch: 19, loss = 0.6731106291214625\n",
      "Epoch: 20, loss = 0.6454509422183037\n",
      "Epoch: 21, loss = 0.6207683483759563\n",
      "Epoch: 22, loss = 0.5998177776734033\n",
      "Epoch: 23, loss = 0.5822738831241925\n",
      "Epoch: 24, loss = 0.5677824790279071\n",
      "Epoch: 25, loss = 0.5548820594946544\n",
      "Epoch: 26, loss = 0.5492111916343372\n",
      "Epoch: 27, loss = 0.5713565175731976\n",
      "Epoch: 28, loss = 0.5521967485547066\n",
      "Epoch: 29, loss = 0.527326464653015\n",
      "Epoch: 30, loss = 0.5185572952032089\n",
      "Epoch: 31, loss = 0.5080018763740858\n",
      "Epoch: 32, loss = 0.5025775333245595\n",
      "Epoch: 33, loss = 0.4965160861611366\n",
      "Epoch: 34, loss = 0.49162967875599856\n",
      "Epoch: 35, loss = 0.4868839358290037\n",
      "Epoch: 36, loss = 0.48219655329982436\n",
      "Epoch: 37, loss = 0.47786381964882213\n",
      "Epoch: 38, loss = 0.47384978954990703\n",
      "Epoch: 39, loss = 0.46992064391573274\n",
      "Epoch: 40, loss = 0.46615597233176226\n",
      "Epoch: 41, loss = 0.46242659042278933\n",
      "Epoch: 42, loss = 0.4589013097186883\n",
      "Epoch: 43, loss = 0.45543017610907555\n",
      "Epoch: 44, loss = 0.4521737719575564\n",
      "Epoch: 45, loss = 0.44885135938723886\n",
      "Epoch: 46, loss = 0.4457805491983891\n",
      "Epoch: 47, loss = 0.442691296339035\n",
      "Epoch: 48, loss = 0.4397575495143732\n",
      "Epoch: 49, loss = 0.436941626171271\n"
     ]
    }
   ],
   "source": [
    "uq_model = uq_model.fit(X_train, y_train)"
   ]
  },
  {
   "cell_type": "code",
   "execution_count": 12,
   "metadata": {},
   "outputs": [],
   "source": [
    "y_mean, y_lower, y_upper = uq_model.predict(X_test)\n",
    "y_mean, y_lower, y_upper = scaler_y.inverse_transform(y_mean), scaler_y.inverse_transform(y_lower), scaler_y.inverse_transform(y_upper)\n",
    "X_test = scaler_X.inverse_transform(X_test)"
   ]
  },
  {
   "cell_type": "code",
   "execution_count": 13,
   "metadata": {},
   "outputs": [],
   "source": [
    "pred_dict = {'rooms': X_test[:,0],\n",
    "             'y': y_test[:,0],\n",
    "             'y_mean': y_mean[:,0],\n",
    "             'y_upper': y_upper[:,0],\n",
    "             'y_lower': y_lower[:,0]\n",
    "            }\n",
    "\n",
    "pred_df = pd.DataFrame(data=pred_dict)\n",
    "\n",
    "pred_df_sorted = pred_df.sort_values(by='rooms')"
   ]
  },
  {
   "cell_type": "code",
   "execution_count": 14,
   "metadata": {},
   "outputs": [
    {
     "data": {
      "text/plain": [
       "Text(0.5, 1.0, 'Test data PICP: 0.93 MPIW: 17.10')"
      ]
     },
     "execution_count": 14,
     "metadata": {},
     "output_type": "execute_result"
    },
    {
     "data": {
      "image/png": "[encoded data removed]",
      "text/plain": [
       "<Figure size 432x288 with 1 Axes>"
      ]
     },
     "metadata": {
      "needs_background": "light"
     },
     "output_type": "display_data"
    }
   ],
   "source": [
    "plt.plot(pred_df_sorted['rooms'], pred_df_sorted['y'], 'o', label='ground truth')\n",
    "plt.plot(pred_df_sorted['rooms'], pred_df_sorted['y_mean'], '-', lw=2, label='mean')\n",
    "plt.fill_between(pred_df_sorted['rooms'],\n",
    "                         pred_df_sorted['y_upper'],\n",
    "                         pred_df_sorted['y_lower'],\n",
    "                         alpha=0.3, label='total uncertianty')\n",
    "plt.legend()\n",
    "plt.xlabel('#of rooms')\n",
    "plt.ylabel('house price in $1000')\n",
    "plt.title('Test data PICP: {:.2f} MPIW: {:.2f}'.format(\n",
    "    picp(y_test, y_lower, y_upper),\n",
    "    mpiw(y_lower, y_upper))      \n",
    "         )"
   ]
  },
  {
   "cell_type": "markdown",
   "metadata": {},
   "source": [
    "#### Let us now plot the AUUCC"
   ]
  },
  {
   "cell_type": "code",
   "execution_count": 15,
   "metadata": {},
   "outputs": [],
   "source": [
    "def form_D(yhat, zhatl, zhatu):\n",
    "    # a handy routine to format data as needed by the UCC fit() method\n",
    "    D = np.zeros([yhat.shape[0],3])\n",
    "    D[:, 0] = yhat\n",
    "    D[:, 1] = zhatl\n",
    "    D[:, 2] = zhatu\n",
    "    return D"
   ]
  },
  {
   "cell_type": "code",
   "execution_count": 16,
   "metadata": {},
   "outputs": [
    {
     "data": {
      "text/plain": [
       "<uq360.metrics.uncertainty_characteristics_curve.uncertainty_characteristics_curve.UncertaintyCharacteristicsCurve at 0x7f9e903f3b00>"
      ]
     },
     "execution_count": 16,
     "metadata": {},
     "output_type": "execute_result"
    }
   ],
   "source": [
    "# form matrix for ucc:\n",
    "X_for_ucc = form_D(y_mean[:,0], y_mean[:,0] - y_lower[:,0], y_upper[:,0] - y_mean[:,0])\n",
    "\n",
    "# create an instance of ucc and fit data\n",
    "u = ucc()\n",
    "u.fit(X_for_ucc, y_test[:,0])"
   ]
  },
  {
   "cell_type": "code",
   "execution_count": 17,
   "metadata": {},
   "outputs": [
    {
     "data": {
      "image/png": "[encoded data removed]",
      "text/plain": [
       "<Figure size 432x288 with 1 Axes>"
      ]
     },
     "metadata": {
      "needs_background": "light"
     },
     "output_type": "display_data"
    },
    {
     "name": "stdout",
     "output_type": "stream",
     "text": [
      "AUUCC is 0.38, OP = (0.10, 0.07)\n"
     ]
    }
   ],
   "source": [
    "u.set_coordinates(x_axis_name='bandwidth', y_axis_name='missrate', normalize=True)\n",
    "auucc, op_info = u.plot_UCC(titlestr=('AUUCC'))\n",
    "print(\"AUUCC is %.2f, OP = (%.2f, %.2f)\" % (auucc, op_info[0]/op_info[2], op_info[1]))"
   ]
  },
  {
   "cell_type": "code",
   "execution_count": null,
   "metadata": {},
   "outputs": [],
   "source": []
  }
 ],
 "metadata": {
  "kernelspec": {
   "display_name": "Python [default]",
   "language": "python",
   "name": "python3"
  },
  "language_info": {
   "codemirror_mode": {
    "name": "ipython",
    "version": 3
   },
   "file_extension": ".py",
   "mimetype": "text/x-python",
   "name": "python",
   "nbconvert_exporter": "python",
   "pygments_lexer": "ipython3",
   "version": "3.6.7"
  }
 },
 "nbformat": 4,
 "nbformat_minor": 4
}
